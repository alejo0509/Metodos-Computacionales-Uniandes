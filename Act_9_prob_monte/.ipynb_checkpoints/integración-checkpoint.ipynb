{
 "cells": [
  {
   "cell_type": "markdown",
   "metadata": {},
   "source": [
    "# <center> Promedio de una función por Monte Carlo <center>\n",
    "    * Generación de números aleatorios de entrada\n",
    "    * Evaluamos el integrando para un número aleatorio\n",
    "    * Lo realizamos para todos los números aleatorios\n",
    "    * Determinamos el promedio de las muestras y multiplicamos por el rango"
   ]
  },
  {
   "cell_type": "markdown",
   "metadata": {},
   "source": [
    "$f(x)$ integrable\n",
    "$$A=\\int_{a}^{b}f(x)dx$$\n",
    "    $$\\lbrace f(x)\\rbrace=\\frac{1}{b-a}\\int_{a}^{b}f(x)dx$$\n",
    "    $$\\lbrace f(x)\\rbrace(b-a)=\\int_{a}^{b}f(x)dx$$\n",
    "    Sea $f(x)=e^{-(x-2)^2/2}$"
   ]
  },
  {
   "cell_type": "code",
   "execution_count": 3,
   "metadata": {},
   "outputs": [],
   "source": [
    "import numpy as np\n",
    "import math as m\n",
    "import random\n",
    "from matplotlib import pyplot as plt\n",
    "from IPython.display import clear_output\n"
   ]
  },
  {
   "cell_type": "markdown",
   "metadata": {},
   "source": [
    "Obtención de números aleatorios"
   ]
  },
  {
   "cell_type": "code",
   "execution_count": 24,
   "metadata": {},
   "outputs": [],
   "source": [
    "def get_rand_number(min_value,max_value):# limites de integración\n",
    "    range=max_value-min_value\n",
    "    choice=random.uniform(0,1)\n",
    "    return min_value+range*choice"
   ]
  },
  {
   "cell_type": "code",
   "execution_count": 43,
   "metadata": {
    "scrolled": true
   },
   "outputs": [
    {
     "data": {
      "image/png": "[encoded data removed]",
      "text/plain": [
       "<Figure size 432x288 with 1 Axes>"
      ]
     },
     "metadata": {
      "needs_background": "light"
     },
     "output_type": "display_data"
    }
   ],
   "source": [
    "a=1;b=3\n",
    "x=[get_rand_number(a,b) for i in range(100)]\n",
    "plt.hist(x,bins=10,density=True)\n",
    "plt.savefig(\"generador_prueba.png\")"
   ]
  },
  {
   "cell_type": "code",
   "execution_count": 30,
   "metadata": {},
   "outputs": [],
   "source": [
    "def f(x):\n",
    "    return np.exp(-(x-2)**2/2)"
   ]
  },
  {
   "cell_type": "markdown",
   "metadata": {},
   "source": [
    "$$\\int_{a}^{b}f(x)dx\\simeq (b-a) \\frac{\\sum f(x_i)}{n}$$\n",
    "con x_i : números aleatorios"
   ]
  },
  {
   "cell_type": "markdown",
   "metadata": {},
   "source": []
  },
  {
   "cell_type": "code",
   "execution_count": 40,
   "metadata": {},
   "outputs": [],
   "source": [
    "def crude_monte_Carlo(num_samples):\n",
    "    lower_bound=-10\n",
    "    upper_bound=14\n",
    "    sum_of_samples=0\n",
    "    for i in range(num_samples):\n",
    "        x=get_rand_number(lower_bound,upper_bound)\n",
    "        sum_of_samples+=f(x)\n",
    "    average=float(sum_of_samples/num_samples)\n",
    "    return (upper_bound-lower_bound)*average"
   ]
  },
  {
   "cell_type": "code",
   "execution_count": 41,
   "metadata": {},
   "outputs": [
    {
     "data": {
      "text/plain": [
       "2.4420152921823677"
      ]
     },
     "execution_count": 41,
     "metadata": {},
     "output_type": "execute_result"
    }
   ],
   "source": [
    "crude_monte_Carlo(10000)"
   ]
  },
  {
   "cell_type": "markdown",
   "metadata": {},
   "source": [
    "## Definimos una constante de normalización para que la integral de la función nos dé 1:"
   ]
  },
  {
   "cell_type": "code",
   "execution_count": 36,
   "metadata": {},
   "outputs": [],
   "source": [
    "A=crude_monte_Carlo()"
   ]
  },
  {
   "cell_type": "code",
   "execution_count": 39,
   "metadata": {},
   "outputs": [],
   "source": [
    "def f_normalizada(x):\n",
    "    return f(x)/A"
   ]
  },
  {
   "cell_type": "code",
   "execution_count": 46,
   "metadata": {},
   "outputs": [],
   "source": [
    "integral=[]\n",
    "for n in range(1,10000,200):\n",
    "    integral.append(crude_monte_Carlo(n))"
   ]
  },
  {
   "cell_type": "code",
   "execution_count": 51,
   "metadata": {},
   "outputs": [
    {
     "data": {
      "image/png": "[encoded data removed]",
      "text/plain": [
       "<Figure size 432x288 with 1 Axes>"
      ]
     },
     "metadata": {
      "needs_background": "light"
     },
     "output_type": "display_data"
    }
   ],
   "source": [
    "plt.figure()\n",
    "plt.scatter(range(1,10000,200),integral)\n",
    "plt.savefig(\"figura2.png\")"
   ]
  },
  {
   "cell_type": "markdown",
   "metadata": {},
   "source": [
    "## Análisis de resultados."
   ]
  },
  {
   "cell_type": "code",
   "execution_count": null,
   "metadata": {},
   "outputs": [],
   "source": []
  }
 ],
 "metadata": {
  "kernelspec": {
   "display_name": "Python 3",
   "language": "python",
   "name": "python3"
  },
  "language_info": {
   "codemirror_mode": {
    "name": "ipython",
    "version": 3
   },
   "file_extension": ".py",
   "mimetype": "text/x-python",
   "name": "python",
   "nbconvert_exporter": "python",
   "pygments_lexer": "ipython3",
   "version": "3.8.3"
  }
 },
 "nbformat": 4,
 "nbformat_minor": 4
}
