{
 "cells": [
  {
   "cell_type": "markdown",
   "metadata": {},
   "source": [
    "# <center>  Creación de Complex class en Python <center>\n",
    "<center> John Erick Cabrera Ramirez <center>"
   ]
  },
  {
   "cell_type": "markdown",
   "metadata": {},
   "source": [
    "## Ejemplo inicial:"
   ]
  },
  {
   "cell_type": "code",
   "execution_count": 1,
   "metadata": {},
   "outputs": [],
   "source": [
    "import numpy as np\n",
    "# import inspect\n",
    "# import threading\n",
    "# from threading import Thread"
   ]
  },
  {
   "cell_type": "code",
   "execution_count": 2,
   "metadata": {},
   "outputs": [],
   "source": [
    "class Persona:\n",
    "    def __init__(self,nombre,apellido):#Definimos atributos de la clase\n",
    "        self.nombre=nombre\n",
    "        self.apellido=apellido\n",
    "    def saludo(self): #una función para los objetos de la clase\n",
    "        print(f\"Bienvenido sr. {self.nombre} {self.apellido}\")\n",
    "        "
   ]
  },
  {
   "cell_type": "code",
   "execution_count": 3,
   "metadata": {},
   "outputs": [
    {
     "name": "stdout",
     "output_type": "stream",
     "text": [
      "John\n",
      "Cabrera\n",
      "Bienvenido sr. John Cabrera\n"
     ]
    }
   ],
   "source": [
    "p1=Persona(\"John\",\"Cabrera\")\n",
    "print(p1.nombre)\n",
    "print(p1.apellido)\n",
    "p1.saludo()"
   ]
  },
  {
   "cell_type": "code",
   "execution_count": 4,
   "metadata": {},
   "outputs": [
    {
     "name": "stdout",
     "output_type": "stream",
     "text": [
      "Hello my name is John\n"
     ]
    }
   ],
   "source": [
    "class Person:\n",
    "  def __init__(self, name, age):\n",
    "    self.name = name\n",
    "    self.age = age\n",
    "\n",
    "  def myfunc(self):\n",
    "    print(\"Hello my name is \" + self.name)\n",
    "\n",
    "p1 = Person(\"John\", 36)\n",
    "p1.myfunc()"
   ]
  },
  {
   "cell_type": "markdown",
   "metadata": {},
   "source": [
    "## Ejemplo 2: Clase que define los números complejos"
   ]
  },
  {
   "cell_type": "markdown",
   "metadata": {},
   "source": [
    "### Creación de la clase \"Compleja\":"
   ]
  },
  {
   "cell_type": "code",
   "execution_count": 5,
   "metadata": {},
   "outputs": [],
   "source": [
    "class Compleja:\n",
    "    #Atributos de un número complejo: Partes real e imaginaria\n",
    "    def __init__(self, real, imaginaria):\n",
    "        self.real = real\n",
    "        self.imaginaria = imaginaria\n",
    "    #definición de la suma, retorna un objeto complejo\n",
    "    def suma(self,other,*args):\n",
    "        a=self.real+other.real\n",
    "        b=self.imaginaria+other.imaginaria\n",
    "        return Compleja(a,b)\n",
    "    #definición de la resta, retorna un objeto complejo\n",
    "    def resta(self,other,*args):\n",
    "        a=self.real-other.real\n",
    "        b=self.imaginaria-other.imaginaria\n",
    "        return Compleja(a,b)\n",
    "    #definición del producto, retorna un objeto complejo\n",
    "    #ver https://mathworld.wolfram.com/ComplexMultiplication.html\n",
    "    def multiplicacion(self,other,*args):\n",
    "        a=self.real*other.real-self.imaginaria*other.imaginaria\n",
    "        b=self.real*other.imaginaria+self.imaginaria*other.real\n",
    "        return Compleja(a,b)\n",
    "    #módulo o norma de un número complejo\n",
    "    def modulo(self,*args):\n",
    "        return np.sqrt(self.real**2+self.imaginaria**2)\n",
    "    #definición del cociente, retorna un objeto complejo\n",
    "    #se calcula a partir de la norma al cuadrado del numero en el denominador\n",
    "    #ver https://mathworld.wolfram.com/ComplexDivision.html\n",
    "    def division(self,other,*args):\n",
    "        a=(self.real*other.real+self.imaginaria*other.imaginaria)/(other.modulo()**2)\n",
    "        b=(-self.real*other.imaginaria+self.imaginaria*other.real)/(other.modulo()**2)\n",
    "        return Compleja(a,b)\n",
    "    #Ingresa un objeto de la clase compleja\n",
    "    #y retorna un string del número complejo escrito en la forma:\n",
    "    #a+bi\n",
    "    def imprimir(self,*args):\n",
    "        if(self.imaginaria>=0):\n",
    "            return f\"{self.real}+{self.imaginaria}i\"\n",
    "        else:\n",
    "            return f\"{self.real}{self.imaginaria}i\""
   ]
  },
  {
   "cell_type": "markdown",
   "metadata": {},
   "source": [
    "### Llamado e impresión de todas las funciones/métodos. Se hace con este código \"misterioso\", para poder hacerlo sobre el programa de cualquiera de los estudiantes.\n",
    " Tomado de https://stackoverflow.com/questions/37075680/run-all-functions-in-class"
   ]
  },
  {
   "cell_type": "code",
   "execution_count": 13,
   "metadata": {},
   "outputs": [
    {
     "name": "stdout",
     "output_type": "stream",
     "text": [
      "z1= 1+2i\n",
      "z2= 3+4i\n",
      "z3= 4+5i\n"
     ]
    }
   ],
   "source": [
    "z1=Compleja(1,2)\n",
    "z2=Compleja(3,4)\n",
    "# z1=Compleja(5,4)\n",
    "# z2=Compleja(3,2)\n",
    "z3=Compleja(4,5)\n",
    "print('z1=',z1.imprimir())\n",
    "print('z2=',z2.imprimir())\n",
    "print('z3=',z3.imprimir())"
   ]
  },
  {
   "cell_type": "code",
   "execution_count": 14,
   "metadata": {
    "scrolled": true
   },
   "outputs": [
    {
     "name": "stdout",
     "output_type": "stream",
     "text": [
      "z1 division z2= 0.44+0.08i\n",
      "imprimir z1= 1+2i\n",
      "modulo z1= 2.23606797749979\n",
      "z1 multiplicacion z2= -5+10i\n",
      "z1 resta z2= -2-2i\n",
      "z1 suma z2= 4+6i\n"
     ]
    }
   ],
   "source": [
    "#dir(objeto)  proporciona todos los métodos de la clase.\n",
    "#getattr(objeto,metodo) evalúa el objeto en el método/function\n",
    "method_names = [method for method in dir(z1) \n",
    "                if callable(getattr(z1, method))\n",
    "                if not method.startswith('_')] \n",
    "#En algunos casos los métodos proporcionados por el docente o estudiantes tienen como salida un string o float\n",
    "#Se llama a la función según cada caso.\n",
    "for method in method_names:\n",
    "    if (type(getattr(z1, method)(z2))!=str)and(type(getattr(z1, method)(z2))!=np.float64):\n",
    "        print(f\"z1 {method} z2=\",(getattr(z1, method)(z2)).imprimir())# call\n",
    "    else:\n",
    "        print(f\"{method} z1=\",getattr(z1, method)(z2))"
   ]
  },
  {
   "cell_type": "code",
   "execution_count": 8,
   "metadata": {},
   "outputs": [
    {
     "name": "stdout",
     "output_type": "stream",
     "text": [
      "z1 division z3= 0.34146341463414637+0.07317073170731707i\n",
      "imprimir z1= 1+2i\n",
      "modulo z1= 2.23606797749979\n",
      "z1 multiplicacion z3= -6+13i\n",
      "z1 resta z3= -3-3i\n",
      "z1 suma z3= 5+7i\n"
     ]
    }
   ],
   "source": [
    "method_names = [method for method in dir(z1)\n",
    "                if callable(getattr(z1, method))\n",
    "                if not method.startswith('_')]  # 'private' methods start from _\n",
    "for method in method_names:\n",
    "    if (type(getattr(z1, method)(z3))!=str)and(type(getattr(z1, method)(z3))!=np.float64):\n",
    "        print(f\"z1 {method} z3=\",(getattr(z1, method)(z3)).imprimir())# call\n",
    "    else:\n",
    "        print(f\"{method} z1=\",getattr(z1, method)(z3))"
   ]
  },
  {
   "cell_type": "markdown",
   "metadata": {},
   "source": [
    "## Anexo\n",
    "Algunas de las posibles notas para la sección 1"
   ]
  },
  {
   "cell_type": "code",
   "execution_count": 9,
   "metadata": {},
   "outputs": [
    {
     "name": "stdout",
     "output_type": "stream",
     "text": [
      "0 0\n",
      "1 7.5\n",
      "2 15.0\n",
      "3 22.5\n",
      "4 30.0\n",
      "5 35.0\n",
      "6 40.0\n",
      "7 45.0\n",
      "8 50.0\n"
     ]
    }
   ],
   "source": [
    "nota=0\n",
    "cnt=0\n",
    "while(nota<=50):\n",
    "    print(cnt,nota)\n",
    "    cnt+=1;\n",
    "    if(nota<30):\n",
    "        nota+=7.5\n",
    "    else:\n",
    "        nota+=5"
   ]
  },
  {
   "cell_type": "markdown",
   "metadata": {},
   "source": [
    "Algunas de las posibles notas para la sección 2"
   ]
  },
  {
   "cell_type": "code",
   "execution_count": 10,
   "metadata": {},
   "outputs": [
    {
     "name": "stdout",
     "output_type": "stream",
     "text": [
      "0 0\n",
      "1 6\n",
      "2 12\n",
      "3 18\n",
      "4 24\n",
      "5 30\n",
      "-\n",
      "6 34\n",
      "-\n",
      "7 38\n",
      "-\n",
      "8 42\n",
      "-\n",
      "9 46\n",
      "-\n",
      "10 50\n",
      "-\n"
     ]
    }
   ],
   "source": [
    "nota=0\n",
    "cnt=0\n",
    "while(nota<=50):\n",
    "    print(cnt,nota)\n",
    "    cnt+=1;\n",
    "    if(nota<30):\n",
    "        nota+=6\n",
    "    else:\n",
    "        print(\"-\")\n",
    "        nota+=4"
   ]
  },
  {
   "cell_type": "code",
   "execution_count": 22,
   "metadata": {},
   "outputs": [
    {
     "data": {
      "text/plain": [
       "3.2"
      ]
     },
     "execution_count": 22,
     "metadata": {},
     "output_type": "execute_result"
    }
   ],
   "source": [
    "(40*2/5)/5"
   ]
  },
  {
   "cell_type": "code",
   "execution_count": null,
   "metadata": {},
   "outputs": [],
   "source": []
  }
 ],
 "metadata": {
  "kernelspec": {
   "display_name": "Python 3",
   "language": "python",
   "name": "python3"
  },
  "language_info": {
   "codemirror_mode": {
    "name": "ipython",
    "version": 3
   },
   "file_extension": ".py",
   "mimetype": "text/x-python",
   "name": "python",
   "nbconvert_exporter": "python",
   "pygments_lexer": "ipython3",
   "version": "3.8.3"
  }
 },
 "nbformat": 4,
 "nbformat_minor": 4
}
