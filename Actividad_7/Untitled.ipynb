{
 "cells": [
  {
   "cell_type": "markdown",
   "metadata": {},
   "source": [
    "$(x_1,y_1),(x_2,y_2),...,(x_n,y_n)$\n",
    "$$\\hat y=\\hat A+\\hat Bx$$\n",
    "$$y=A+Bx+\\epsilon$$\n",
    "$$S(x)=\\sum_{i=0}^{n-1}x_i$$\n",
    "$$S(y)=\\sum_{i=0}^{n-1}y_i$$\n",
    "$$SS(x)=\\sum_{i=0}^{n-1}x_i^2$$\n",
    "$$SXY(X,Y)=\\sum_{i=0}^{n-1}x_iy_i$$\n",
    "$$\\Delta(x)=n\\sum_{i=0}^{n-1}x_i^2-\\left(\\sum_{i=0}^{n-1}x_i\\right)^2$$\n",
    "Punto de corte:\n",
    "\\begin{equation}\n",
    "A=\\frac{SS(X)*S(Y)-S(X)*SXY(X,Y)}{\\Delta(X)}\n",
    "\\end{equation}\n",
    "Pendiente:\n",
    "\\begin{equation}\n",
    "B=\\frac{n*SXY(X,Y)-S(X)*S(Y)}{\\Delta(X)}\n",
    "\\end{equation}\n",
    "Incertidumbre en Y:\n",
    "\\begin{equation}\n",
    "\\sigma_y=\\sqrt{\\frac{\\sum (y_{i}-A-Bx)^2}{n-2}}\n",
    "\\end{equation}\n",
    "Incertidumbre en A:\n",
    "\\begin{equation}\n",
    "\\Delta A=\\sigma_{y}\\frac{\\sqrt{\\sum x_i^2}}{\\Delta(X)}\n",
    "\\end{equation}"
   ]
  },
  {
   "cell_type": "code",
   "execution_count": null,
   "metadata": {},
   "outputs": [],
   "source": []
  },
  {
   "cell_type": "code",
   "execution_count": null,
   "metadata": {},
   "outputs": [],
   "source": []
  }
 ],
 "metadata": {
  "kernelspec": {
   "display_name": "Python 3",
   "language": "python",
   "name": "python3"
  },
  "language_info": {
   "codemirror_mode": {
    "name": "ipython",
    "version": 3
   },
   "file_extension": ".py",
   "mimetype": "text/x-python",
   "name": "python",
   "nbconvert_exporter": "python",
   "pygments_lexer": "ipython3",
   "version": "3.8.3"
  }
 },
 "nbformat": 4,
 "nbformat_minor": 4
}
