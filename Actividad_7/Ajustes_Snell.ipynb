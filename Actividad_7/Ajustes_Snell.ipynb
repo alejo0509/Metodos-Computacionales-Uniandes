{
 "cells": [
  {
   "cell_type": "markdown",
   "metadata": {},
   "source": [
    "# <center> Ajuste lineal por mínimos cuadrados <center>"
   ]
  },
  {
   "cell_type": "markdown",
   "metadata": {},
   "source": [
    "$(x_0,y_0),(x_1,y_1),...,(x_{n-1},y_{n-1})$\n",
    "$$\\hat y=\\hat A+\\hat Bx$$\n",
    "$$y=A+Bx+\\epsilon$$\n",
    "$$S(x)=\\sum_{i=0}^{n-1}x_i$$\n",
    "$$S(y)=\\sum_{i=0}^{n-1}y_i$$\n",
    "$$SS(x)=\\sum_{i=0}^{n-1}x_i^2$$\n",
    "$$SXY(X,Y)=\\sum_{i=0}^{n-1}x_iy_i$$\n",
    "$$\\Delta(x)=n\\sum_{i=0}^{n-1}x_i^2-\\left(\\sum_{i=0}^{n-1}x_i\\right)^2$$\n",
    "Punto de corte:\n",
    "\\begin{equation}\n",
    "A=\\frac{SS(X)*S(Y)-S(X)*SXY(X,Y)}{\\Delta(X)}\n",
    "\\end{equation}\n",
    "Pendiente:\n",
    "\\begin{equation}\n",
    "B=\\frac{n*SXY(X,Y)-S(X)*S(Y)}{\\Delta(X)}\n",
    "\\end{equation}\n",
    "Incertidumbre en Y:(n-2: sesgo)\n",
    "\\begin{equation}\n",
    "\\sigma_y=\\sqrt{\\frac{\\sum (y_{i}-(A+Bx_{i}))^2}{n-2}}\n",
    "\\end{equation}\n",
    "Incertidumbre en A:\n",
    "\\begin{equation}\n",
    "\\Delta A=\\sigma_{y}\\frac{\\sqrt{\\sum x_i^2}}{\\Delta(X)}\n",
    "\\end{equation}"
   ]
  },
  {
   "cell_type": "code",
   "execution_count": 4,
   "metadata": {},
   "outputs": [],
   "source": [
    "import linear_fitting as ajuste\n",
    "import pandas as pd\n",
    "import matplotlib.pyplot as plt\n",
    "import numpy as np"
   ]
  },
  {
   "cell_type": "code",
   "execution_count": 19,
   "metadata": {},
   "outputs": [],
   "source": [
    "#para guardar figuras con latex\n",
    "from matplotlib import rc\n",
    "plt.rc('text', usetex=True)\n",
    "import seaborn as sns\n",
    "plt.style.use('seaborn-poster')\n",
    "sns.set_context(\"poster\")"
   ]
  },
  {
   "cell_type": "code",
   "execution_count": 6,
   "metadata": {},
   "outputs": [],
   "source": [
    "#data1 corresponde a las mediciones de los ángulos de incidencia\n",
    "#data2 corresponde a las mediciones de los ángulos de refraccion\n",
    "data1=pd.read_csv(\"incident_angle_030347.txt\",delimiter=\"\\t\",skiprows=1)\n",
    "data2=pd.read_csv(\"refraction_trans_ang_030333.txt\",delimiter=\"\\t\",skiprows=1)"
   ]
  },
  {
   "cell_type": "code",
   "execution_count": 7,
   "metadata": {},
   "outputs": [
    {
     "data": {
      "text/html": [
       "<div>\n",
       "<style scoped>\n",
       "    .dataframe tbody tr th:only-of-type {\n",
       "        vertical-align: middle;\n",
       "    }\n",
       "\n",
       "    .dataframe tbody tr th {\n",
       "        vertical-align: top;\n",
       "    }\n",
       "\n",
       "    .dataframe thead th {\n",
       "        text-align: right;\n",
       "    }\n",
       "</style>\n",
       "<table border=\"1\" class=\"dataframe\">\n",
       "  <thead>\n",
       "    <tr style=\"text-align: right;\">\n",
       "      <th></th>\n",
       "      <th>t</th>\n",
       "      <th>θ</th>\n",
       "    </tr>\n",
       "  </thead>\n",
       "  <tbody>\n",
       "    <tr>\n",
       "      <th>0</th>\n",
       "      <td>0.000000</td>\n",
       "      <td>170.279427</td>\n",
       "    </tr>\n",
       "    <tr>\n",
       "      <th>1</th>\n",
       "      <td>0.100100</td>\n",
       "      <td>168.282275</td>\n",
       "    </tr>\n",
       "    <tr>\n",
       "      <th>2</th>\n",
       "      <td>0.200200</td>\n",
       "      <td>168.630136</td>\n",
       "    </tr>\n",
       "    <tr>\n",
       "      <th>3</th>\n",
       "      <td>0.300300</td>\n",
       "      <td>167.099544</td>\n",
       "    </tr>\n",
       "    <tr>\n",
       "      <th>4</th>\n",
       "      <td>0.400400</td>\n",
       "      <td>164.158466</td>\n",
       "    </tr>\n",
       "    <tr>\n",
       "      <th>...</th>\n",
       "      <td>...</td>\n",
       "      <td>...</td>\n",
       "    </tr>\n",
       "    <tr>\n",
       "      <th>167</th>\n",
       "      <td>16.717745</td>\n",
       "      <td>91.336843</td>\n",
       "    </tr>\n",
       "    <tr>\n",
       "      <th>168</th>\n",
       "      <td>16.817856</td>\n",
       "      <td>90.095768</td>\n",
       "    </tr>\n",
       "    <tr>\n",
       "      <th>169</th>\n",
       "      <td>16.917967</td>\n",
       "      <td>91.116299</td>\n",
       "    </tr>\n",
       "    <tr>\n",
       "      <th>170</th>\n",
       "      <td>17.018067</td>\n",
       "      <td>89.826581</td>\n",
       "    </tr>\n",
       "    <tr>\n",
       "      <th>171</th>\n",
       "      <td>17.118167</td>\n",
       "      <td>90.995053</td>\n",
       "    </tr>\n",
       "  </tbody>\n",
       "</table>\n",
       "<p>172 rows × 2 columns</p>\n",
       "</div>"
      ],
      "text/plain": [
       "             t           θ\n",
       "0     0.000000  170.279427\n",
       "1     0.100100  168.282275\n",
       "2     0.200200  168.630136\n",
       "3     0.300300  167.099544\n",
       "4     0.400400  164.158466\n",
       "..         ...         ...\n",
       "167  16.717745   91.336843\n",
       "168  16.817856   90.095768\n",
       "169  16.917967   91.116299\n",
       "170  17.018067   89.826581\n",
       "171  17.118167   90.995053\n",
       "\n",
       "[172 rows x 2 columns]"
      ]
     },
     "execution_count": 7,
     "metadata": {},
     "output_type": "execute_result"
    }
   ],
   "source": [
    "data1"
   ]
  },
  {
   "cell_type": "code",
   "execution_count": 8,
   "metadata": {},
   "outputs": [
    {
     "data": {
      "text/plain": [
       "0      170.279427\n",
       "1      168.282275\n",
       "2      168.630136\n",
       "3      167.099544\n",
       "4      164.158466\n",
       "          ...    \n",
       "167     91.336843\n",
       "168     90.095768\n",
       "169     91.116299\n",
       "170     89.826581\n",
       "171     90.995053\n",
       "Name: θ, Length: 172, dtype: float64"
      ]
     },
     "execution_count": 8,
     "metadata": {},
     "output_type": "execute_result"
    }
   ],
   "source": [
    "data1[\"θ\"]"
   ]
  },
  {
   "cell_type": "code",
   "execution_count": 9,
   "metadata": {},
   "outputs": [
    {
     "data": {
      "text/plain": [
       "<matplotlib.legend.Legend at 0x7f0b439ce730>"
      ]
     },
     "execution_count": 9,
     "metadata": {},
     "output_type": "execute_result"
    },
    {
     "data": {
      "image/png": "[encoded data removed]",
      "text/plain": [
       "<Figure size 432x288 with 1 Axes>"
      ]
     },
     "metadata": {
      "needs_background": "light"
     },
     "output_type": "display_data"
    }
   ],
   "source": [
    "plt.plot(data1[\"t\"],data1[\"θ\"],label=\"Datos de incidencia\")\n",
    "plt.plot(data2[\"t\"],data2[\"θ\"],label=\"Datos de refracción\")\n",
    "plt.xlabel(\"t(s)\")\n",
    "plt.ylabel(r\"$\\displaystyle \\theta(grados)$\")\n",
    "plt.legend()\n"
   ]
  },
  {
   "cell_type": "code",
   "execution_count": 10,
   "metadata": {
    "scrolled": true
   },
   "outputs": [
    {
     "name": "stdout",
     "output_type": "stream",
     "text": [
      "0.0\n",
      "0\n",
      "0.0\n",
      "1\n",
      "0.0\n",
      "2\n",
      "0.0\n",
      "3\n",
      "0.0\n",
      "4\n",
      "0.0\n",
      "5\n",
      "0.0\n",
      "6\n",
      "0.0\n",
      "7\n",
      "0.0\n",
      "8\n",
      "0.0\n",
      "9\n",
      "0.0\n",
      "10\n",
      "0.0\n",
      "11\n",
      "0.0\n",
      "12\n",
      "0.0\n",
      "13\n",
      "0.0\n",
      "14\n",
      "0.0\n",
      "15\n",
      "0.0\n",
      "16\n",
      "0.0\n",
      "17\n",
      "0.0\n",
      "18\n",
      "0.0\n",
      "19\n",
      "0.0\n",
      "20\n",
      "0.0\n",
      "21\n",
      "0.0\n",
      "22\n",
      "0.0\n",
      "23\n",
      "0.0\n",
      "24\n",
      "0.0\n",
      "25\n",
      "0.0\n",
      "26\n",
      "0.0\n",
      "27\n",
      "0.0\n",
      "28\n",
      "0.0\n",
      "29\n",
      "0.0\n",
      "30\n",
      "0.0\n",
      "31\n",
      "0.0\n",
      "32\n",
      "0.0\n",
      "33\n",
      "0.0\n",
      "34\n",
      "0.0\n",
      "35\n",
      "0.0\n",
      "36\n",
      "0.0\n",
      "37\n",
      "0.0\n",
      "38\n",
      "0.0\n",
      "39\n",
      "0.0\n",
      "40\n",
      "0.0\n",
      "41\n",
      "0.0\n",
      "42\n",
      "0.0\n",
      "43\n",
      "0.0\n",
      "44\n",
      "0.0\n",
      "45\n",
      "0.0\n",
      "46\n",
      "0.0\n",
      "47\n",
      "0.0\n",
      "48\n",
      "0.0\n",
      "49\n",
      "0.0\n",
      "50\n",
      "0.0\n",
      "51\n",
      "0.0\n",
      "52\n",
      "0.0\n",
      "53\n",
      "0.0\n",
      "54\n",
      "0.0\n",
      "55\n",
      "0.0\n",
      "56\n"
     ]
    }
   ],
   "source": [
    "pos=0\n",
    "while(np.abs(data2[\"θ\"][pos])<1e-9):\n",
    "    print(data2[\"θ\"][pos])\n",
    "    print(pos)\n",
    "    pos+=1"
   ]
  },
  {
   "cell_type": "code",
   "execution_count": 11,
   "metadata": {},
   "outputs": [],
   "source": [
    "#Solo tomaremos los angulos y no los tiempos\n",
    "ang_inc=data1[\"θ\"][57:]-90#-90*np.ones(len(data1[\"θ\"][57:]))\n",
    "ang_ref=data2[\"θ\"][57:]+90#+90"
   ]
  },
  {
   "cell_type": "code",
   "execution_count": 12,
   "metadata": {},
   "outputs": [
    {
     "data": {
      "text/plain": [
       "57     80.236963\n",
       "58     79.556094\n",
       "59     77.255568\n",
       "60     75.107764\n",
       "61     73.294421\n",
       "         ...    \n",
       "167     6.399138\n",
       "168     5.783896\n",
       "169     4.974365\n",
       "170     4.152263\n",
       "171     2.794425\n",
       "Name: θ, Length: 115, dtype: float64"
      ]
     },
     "execution_count": 12,
     "metadata": {},
     "output_type": "execute_result"
    }
   ],
   "source": [
    "ang_ref"
   ]
  },
  {
   "cell_type": "markdown",
   "metadata": {},
   "source": [
    "Modelo físico:\n",
    "$$n_i\\sin \\theta_i=n_r\\sin\\theta_r$$\n",
    "Transformamos coordenadas:\n",
    "$$y=\\sin\\theta_2=\\sin\\theta_{tr}$$\n",
    "$$x=\\sin\\theta_1=\\sin\\theta_{inc}$$\n",
    "$$n_ix=n_ry$$\n",
    "ni: Gelatina\\\n",
    "nr: aire\\\n",
    "$$y=\\frac{n_i}{n_r}x$$\n",
    "Ajuste:\n",
    "$$\\hat{y}=Bx+A$$"
   ]
  },
  {
   "cell_type": "markdown",
   "metadata": {},
   "source": [
    "Condiciones para poder linealizar una función.\\\n",
    "Ecuaciones con variables separables:\n",
    "$$ln(y)=e^xy$$\n",
    "$$\\frac{ln(y)}{y}=e^x$$\n",
    "$$v=\\frac{ln(y)}{y}$$\n",
    "$u=e^x$\n",
    "$$U=X$$"
   ]
  },
  {
   "cell_type": "code",
   "execution_count": 13,
   "metadata": {},
   "outputs": [],
   "source": [
    "X=np.sin(ang_inc*np.pi/180)\n",
    "Y=np.sin(ang_ref*np.pi/180)"
   ]
  },
  {
   "cell_type": "code",
   "execution_count": 14,
   "metadata": {},
   "outputs": [
    {
     "name": "stdout",
     "output_type": "stream",
     "text": [
      "0.021429047972105878\n",
      "1.3398208993672323\n"
     ]
    }
   ],
   "source": [
    "print(ajuste.A(X,Y))\n",
    "print(ajuste.B(X,Y))"
   ]
  },
  {
   "cell_type": "code",
   "execution_count": 15,
   "metadata": {
    "scrolled": true
   },
   "outputs": [
    {
     "data": {
      "text/plain": [
       "'y=0.0214+1.3398208993672323x'"
      ]
     },
     "execution_count": 15,
     "metadata": {},
     "output_type": "execute_result"
    }
   ],
   "source": [
    "ajuste.fit(X,Y)"
   ]
  },
  {
   "cell_type": "code",
   "execution_count": 20,
   "metadata": {
    "scrolled": true
   },
   "outputs": [
    {
     "data": {
      "image/png": "[encoded data removed]",
      "text/plain": [
       "<Figure size 921.6x633.6 with 1 Axes>"
      ]
     },
     "metadata": {
      "needs_background": "light"
     },
     "output_type": "display_data"
    }
   ],
   "source": [
    "plt.scatter(X,Y,label=\"Datos\")\n",
    "plt.plot(X,ajuste.y_pred(X,X,Y),label=f\"{ajuste.fit(X,Y)}\")\n",
    "# plt.xlabel(\"t(s)\")\n",
    "# plt.ylabel(r\"$\\displaystyle \\theta(grados)$\")\n",
    "plt.legend()\n",
    "plt.savefig(\"Ajuste\")"
   ]
  },
  {
   "cell_type": "markdown",
   "metadata": {},
   "source": [
    "# <center> Mínimos Cuadrados <center>\n",
    "    Dados $(x_0,y_0),(x_1,y_1),...,(x_n,y_n)$, la optimización por mínimos cuadrados busca estimar los parámetros de $b_0$, $b_1$ que cumplen:\n",
    "\\begin{equation}\n",
    "\\hat{y}=\\hat{b}_0\\vec{x}+\\hat{b}_1\n",
    "\\end{equation}\n",
    "$$\\hat{b}=(b_0,b_1)$$\n",
    "La solucion para b es:\n",
    "\\begin{equation}\n",
    "\\hat{b}=(X^{T}X)^{-1}X^{T}Y\n",
    "\\end{equation}\n",
    "\\begin{equation}\n",
    "X=\\left(\n",
    "\\begin{matrix}\n",
    "x_0 & 1\\\\\n",
    "x_1 & 1\\\\\n",
    ".. & ...\\\\\n",
    "x_{n-1} &1\n",
    "\\end{matrix}\\right)\n",
    "\\end{equation}\n",
    "\\begin{equation}\n",
    "Y=\\left(\n",
    "\\begin{matrix}\n",
    "y_0\\\\\n",
    "y_1\\\\\n",
    "..\\\\\n",
    "y_{n-1}\n",
    "\\end{matrix}\\right)\n",
    "\\end{equation}\n",
    "$$X^TX=\\left(\n",
    "\\begin{matrix}\n",
    "\\sum x_i & n\\\\\n",
    "\\sum x_i^2 & \\sum x_i\\\\\n",
    "\\end{matrix}\\right)$$\n",
    "Donde  $X=[[x0,1],[x1,1],...,[xn,1]]$ es una matriz de tamaño $n\\times 2$, $\\hat{b}=[[b_0],[b_1]]$ un array de tamaño $2\\times 1$"
   ]
  },
  {
   "cell_type": "code",
   "execution_count": 17,
   "metadata": {},
   "outputs": [],
   "source": [
    "Xaumentada=np.ones((len(X),2))\n",
    "Xaumentada[:,0]=X\n",
    "X_t_X=np.dot(Xaumentada.T,Xaumentada)"
   ]
  },
  {
   "cell_type": "code",
   "execution_count": 18,
   "metadata": {},
   "outputs": [
    {
     "name": "stdout",
     "output_type": "stream",
     "text": [
      "[1.3398209  0.02142905]\n"
     ]
    }
   ],
   "source": [
    "beta=np.dot(np.linalg.inv(X_t_X),np.dot(Xaumentada.T,Y))\n",
    "print(beta)"
   ]
  },
  {
   "cell_type": "code",
   "execution_count": null,
   "metadata": {},
   "outputs": [],
   "source": []
  }
 ],
 "metadata": {
  "kernelspec": {
   "display_name": "Python 3",
   "language": "python",
   "name": "python3"
  },
  "language_info": {
   "codemirror_mode": {
    "name": "ipython",
    "version": 3
   },
   "file_extension": ".py",
   "mimetype": "text/x-python",
   "name": "python",
   "nbconvert_exporter": "python",
   "pygments_lexer": "ipython3",
   "version": "3.8.3"
  }
 },
 "nbformat": 4,
 "nbformat_minor": 4
}
