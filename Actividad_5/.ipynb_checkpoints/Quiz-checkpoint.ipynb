{
 "cells": [
  {
   "cell_type": "markdown",
   "metadata": {},
   "source": [
    "# <center> Quiz Reglas de Integración <center>\n",
    "    Instrucciones: Puede realizar el código en notebook o puede utilizar el editor de textos de su preferencia, pero debe someter la función de su código en este notebook"
   ]
  },
  {
   "cell_type": "code",
   "execution_count": null,
   "metadata": {},
   "outputs": [],
   "source": []
  },
  {
   "cell_type": "code",
   "execution_count": 10,
   "metadata": {},
   "outputs": [],
   "source": [
    "import numpy as np\n",
    "from test import *"
   ]
  },
  {
   "cell_type": "markdown",
   "metadata": {},
   "source": [
    "## 1. Integración por sumas de Riemann:\n",
    "Una función a integrar $f(x)$ en un intervalo $[a,b]$ puede aproximarse a una suma finita del área de $n$ rectángulos, que por facilidad se supondrán que tendrán el mismo ancho de la base $\\Delta x$. La aproximación tiene la siguiente forma:\n",
    "$$\\int_{a}^{b}f(x)dx=\\sum_{i=0}^{n-1}f(x_{i})\\Delta x $$\n",
    "Con $\\Delta x=\\frac{b-a}{n}$, $a\\leq x_{i}\\leq b$ y podemos escoger los $x_{i}$ de tal forma que:\n",
    "$$x_{i}=a+i\\Delta x, $$\n",
    "Con $i=0,..,n-1$\n",
    "\n",
    "* Cree una función en python llamada integral_riemann que integre por sumas de Riemann la función $e^{-x^2}$ entre 0 y 1. Tome $n=20$ iteraciones."
   ]
  },
  {
   "cell_type": "code",
   "execution_count": 5,
   "metadata": {},
   "outputs": [],
   "source": [
    "def integral_riemann():\n",
    "    return"
   ]
  },
  {
   "cell_type": "code",
   "execution_count": 16,
   "metadata": {},
   "outputs": [
    {
     "name": "stdout",
     "output_type": "stream",
     "text": [
      "Resultado Incorrecto\n"
     ]
    }
   ],
   "source": [
    "#¿el código es correcto? no borrar esta línea, ingresar los mismos valores de entrada de su\n",
    "#función\n",
    "test1()"
   ]
  },
  {
   "cell_type": "markdown",
   "metadata": {},
   "source": [
    "## 2. Método del trapecio\n",
    "En lugar de aproximar el área por la suma de rectángulos lo haremos por sumas de trapecios, en donde la parte superior de cada trapecio se aproxima como una recta. Después de hacer la suma de las áreas de los trapecios se obtiene la fórmula:\n",
    "$$\\int_{a}^{b}f(x)dx=\\Delta x \\left(\\frac{y_0}{2}+\\sum_{i=1}^{n-1}f(x_{i})+\\frac{y_{n}}{2} \\right)$$\n",
    "Con $\\Delta x=\\frac{b-a}{n}$, $a\\leq x_{i}\\leq b$ y podemos escoger los $x_{i}$ de tal forma que:\n",
    "$$x_{i}=a+i\\Delta x, $$\n",
    "Con $i=0,..,n-1$\n",
    "\n",
    "* Cree una función en python llamada integral_trapecio que integre por la regla del trapecio la función $e^{-x^2}$ entre 0 y 1.\n"
   ]
  },
  {
   "cell_type": "code",
   "execution_count": 6,
   "metadata": {},
   "outputs": [],
   "source": [
    "def integral_trapecio():\n",
    "    return"
   ]
  },
  {
   "cell_type": "code",
   "execution_count": 15,
   "metadata": {},
   "outputs": [
    {
     "name": "stdout",
     "output_type": "stream",
     "text": [
      "Resultado Incorrecto\n"
     ]
    }
   ],
   "source": [
    "#¿el código es correcto? no borrar esta línea, ingresar los mismos valores den entrada de su\n",
    "#función\n",
    "test2()"
   ]
  },
  {
   "cell_type": "code",
   "execution_count": null,
   "metadata": {},
   "outputs": [],
   "source": []
  }
 ],
 "metadata": {
  "kernelspec": {
   "display_name": "Python 3",
   "language": "python",
   "name": "python3"
  },
  "language_info": {
   "codemirror_mode": {
    "name": "ipython",
    "version": 3
   },
   "file_extension": ".py",
   "mimetype": "text/x-python",
   "name": "python",
   "nbconvert_exporter": "python",
   "pygments_lexer": "ipython3",
   "version": "3.8.3"
  }
 },
 "nbformat": 4,
 "nbformat_minor": 4
}
