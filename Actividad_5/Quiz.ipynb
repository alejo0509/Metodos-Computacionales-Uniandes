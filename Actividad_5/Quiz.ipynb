{
 "cells": [
  {
   "cell_type": "markdown",
   "metadata": {},
   "source": [
    "# <center> Quiz Reglas de Integración <center>\n",
    "    Instrucciones: Puede realizar el código en notebook o puede utilizar el editor de textos de su preferencia, pero debe someter la función de su código en este notebook"
   ]
  },
  {
   "cell_type": "code",
   "execution_count": null,
   "metadata": {},
   "outputs": [],
   "source": []
  },
  {
   "cell_type": "code",
   "execution_count": 8,
   "metadata": {},
   "outputs": [],
   "source": [
    "import numpy as np\n",
    "from test import *"
   ]
  },
  {
   "cell_type": "markdown",
   "metadata": {},
   "source": [
    "## 1. Integración por sumas de Riemann:\n",
    "Una función a integrar $f(x)$ en un intervalo $[a,b]$ puede aproximarse a una suma finita del área de $n$ rectángulos, que por facilidad se supondrán que tendrán el mismo ancho de la base $\\Delta x$. La aproximación tiene la siguiente forma:\n",
    "$$\\int_{a}^{b}f(x)dx=\\sum_{i=0}^{n-1}f(x_{i})\\Delta x $$\n",
    "Con $\\Delta x=\\frac{b-a}{n}$, $a\\leq x_{i}\\leq b$ y podemos escoger los $x_{i}$ de tal forma que:\n",
    "$$x_{i}=a+i\\Delta x, $$\n",
    "Con $i=0,..,n-1$\n",
    "\n",
    "* Cree una función en python llamada integral_riemann que integre por sumas de Riemann la función $e^{-x^2}$ entre 0 y 1. Tome las iteraciones necesarias."
   ]
  },
  {
   "cell_type": "code",
   "execution_count": 9,
   "metadata": {},
   "outputs": [],
   "source": [
    "def integral_riemann():\n",
    "    return "
   ]
  },
  {
   "cell_type": "code",
   "execution_count": 6,
   "metadata": {},
   "outputs": [
    {
     "ename": "NameError",
     "evalue": "name 'integral_riemann' is not defined",
     "output_type": "error",
     "traceback": [
      "\u001b[0;31m---------------------------------------------------------------------------\u001b[0m",
      "\u001b[0;31mNameError\u001b[0m                                 Traceback (most recent call last)",
      "\u001b[0;32m<ipython-input-6-6566f37e1118>\u001b[0m in \u001b[0;36m<module>\u001b[0;34m\u001b[0m\n\u001b[1;32m      1\u001b[0m \u001b[0;31m#¿el código es correcto? no borrar esta línea, ingresar los mismos valores de entrada de su\u001b[0m\u001b[0;34m\u001b[0m\u001b[0;34m\u001b[0m\u001b[0;34m\u001b[0m\u001b[0m\n\u001b[1;32m      2\u001b[0m \u001b[0;31m#función\u001b[0m\u001b[0;34m\u001b[0m\u001b[0;34m\u001b[0m\u001b[0;34m\u001b[0m\u001b[0m\n\u001b[0;32m----> 3\u001b[0;31m \u001b[0mtest1\u001b[0m\u001b[0;34m(\u001b[0m\u001b[0;34m)\u001b[0m\u001b[0;34m\u001b[0m\u001b[0;34m\u001b[0m\u001b[0m\n\u001b[0m\u001b[1;32m      4\u001b[0m \u001b[0;31m#assert np.abs(integral_riemann()-0.746824132812427)<1e-6\u001b[0m\u001b[0;34m\u001b[0m\u001b[0;34m\u001b[0m\u001b[0;34m\u001b[0m\u001b[0m\n",
      "\u001b[0;32m/media/john/ARCHIVOS/Cursos Uniandes/2022/Comp_metodos/MetodosComputacionales1/Actividad_5/test.py\u001b[0m in \u001b[0;36mtest1\u001b[0;34m(*args)\u001b[0m\n\u001b[1;32m      2\u001b[0m \u001b[0;32mdef\u001b[0m \u001b[0mtest1\u001b[0m\u001b[0;34m(\u001b[0m\u001b[0;34m*\u001b[0m\u001b[0margs\u001b[0m\u001b[0;34m)\u001b[0m\u001b[0;34m:\u001b[0m\u001b[0;34m\u001b[0m\u001b[0;34m\u001b[0m\u001b[0m\n\u001b[1;32m      3\u001b[0m  \u001b[0;31m#   try:\u001b[0m\u001b[0;34m\u001b[0m\u001b[0;34m\u001b[0m\u001b[0;34m\u001b[0m\u001b[0m\n\u001b[0;32m----> 4\u001b[0;31m      \u001b[0;32massert\u001b[0m \u001b[0mnp\u001b[0m\u001b[0;34m.\u001b[0m\u001b[0mabs\u001b[0m\u001b[0;34m(\u001b[0m\u001b[0mintegral_riemann\u001b[0m\u001b[0;34m(\u001b[0m\u001b[0;34m*\u001b[0m\u001b[0margs\u001b[0m\u001b[0;34m)\u001b[0m\u001b[0;34m-\u001b[0m\u001b[0;36m0.746824132812427\u001b[0m\u001b[0;34m)\u001b[0m\u001b[0;34m<\u001b[0m\u001b[0;36m1e-6\u001b[0m\u001b[0;34m\u001b[0m\u001b[0;34m\u001b[0m\u001b[0m\n\u001b[0m\u001b[1;32m      5\u001b[0m \u001b[0;31m#        print(\"Resultado Correcto\")\u001b[0m\u001b[0;34m\u001b[0m\u001b[0;34m\u001b[0m\u001b[0;34m\u001b[0m\u001b[0m\n\u001b[1;32m      6\u001b[0m \u001b[0;31m#    except:\u001b[0m\u001b[0;34m\u001b[0m\u001b[0;34m\u001b[0m\u001b[0;34m\u001b[0m\u001b[0m\n",
      "\u001b[0;31mNameError\u001b[0m: name 'integral_riemann' is not defined"
     ]
    }
   ],
   "source": [
    "#¿el código es correcto? no borrar esta línea, ingresar los mismos valores de entrada de su\n",
    "#función\n",
    "test1()\n",
    "#assert np.abs(integral_riemann()-0.746824132812427)<1e-6"
   ]
  },
  {
   "cell_type": "markdown",
   "metadata": {},
   "source": [
    "## 2. Método del trapecio\n",
    "En lugar de aproximar el área por la suma de rectángulos lo haremos por sumas de trapecios, en donde la parte superior de cada trapecio se aproxima como una recta. Después de hacer la suma de las áreas de los trapecios se obtiene la fórmula:\n",
    "$$\\int_{a}^{b}f(x)dx=\\Delta x \\left(\\frac{y_0}{2}+\\sum_{i=1}^{n-1}f(x_{i})+\\frac{y_{n}}{2} \\right)$$\n",
    "Con $\\Delta x=\\frac{b-a}{n}$, $a\\leq x_{i}\\leq b$ y podemos escoger los $x_{i}$ de tal forma que:\n",
    "$$x_{i}=a+i\\Delta x, $$\n",
    "Con $i=0,..,n-1$\n",
    "\n",
    "* Cree una función en python llamada integral_trapecio que integre por la regla del trapecio la función $e^{-x^2}$ entre 0 y 1.\n"
   ]
  },
  {
   "cell_type": "code",
   "execution_count": 7,
   "metadata": {},
   "outputs": [],
   "source": [
    "def integral_trapecio():\n",
    "    return \n"
   ]
  },
  {
   "cell_type": "code",
   "execution_count": null,
   "metadata": {},
   "outputs": [],
   "source": [
    "#¿el código es correcto? no borrar esta línea, ingresar los mismos valores den entrada de su\n",
    "#función\n",
    "test2()"
   ]
  },
  {
   "cell_type": "code",
   "execution_count": null,
   "metadata": {},
   "outputs": [],
   "source": []
  }
 ],
 "metadata": {
  "kernelspec": {
   "display_name": "Python 3",
   "language": "python",
   "name": "python3"
  },
  "language_info": {
   "codemirror_mode": {
    "name": "ipython",
    "version": 3
   },
   "file_extension": ".py",
   "mimetype": "text/x-python",
   "name": "python",
   "nbconvert_exporter": "python",
   "pygments_lexer": "ipython3",
   "version": "3.8.3"
  }
 },
 "nbformat": 4,
 "nbformat_minor": 4
}
