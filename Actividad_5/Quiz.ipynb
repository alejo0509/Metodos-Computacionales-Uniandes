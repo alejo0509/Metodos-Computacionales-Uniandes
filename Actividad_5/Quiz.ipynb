{
 "cells": [
  {
   "cell_type": "markdown",
   "metadata": {},
   "source": [
    "# <center> Quiz Reglas de Integración <center>\n",
    "    Instrucciones: Puede realizar el código en notebook o puede utilizar el editor de textos de su preferencia, pero debe someter la función de su código en este notebook"
   ]
  },
  {
   "cell_type": "code",
   "execution_count": null,
   "metadata": {},
   "outputs": [],
   "source": []
  },
  {
   "cell_type": "code",
   "execution_count": 2,
   "metadata": {},
   "outputs": [],
   "source": [
    "import numpy as np\n",
    "from test import *"
   ]
  },
  {
   "cell_type": "markdown",
   "metadata": {},
   "source": [
    "## 1. Integración por sumas de Riemann:\n",
    "Una función a integrar $f(x)$ en un intervalo $[a,b]$ puede aproximarse a una suma finita del área de $n$ rectángulos, que por facilidad se supondrán que tendrán el mismo ancho de la base $\\Delta x$. La aproximación tiene la siguiente forma:\n",
    "$$\\int_{a}^{b}f(x)dx=\\sum_{i=0}^{n-1}f(x_{i})\\Delta x $$\n",
    "Con $\\Delta x=\\frac{b-a}{n}$, $a\\leq x_{i}\\leq b$ y podemos escoger los $x_{i}$ de tal forma que:\n",
    "$$x_{i}=a+i\\Delta x, $$\n",
    "Con $i=0,..,n-1$\n",
    "\n",
    "* Cree una función en python llamada integral_riemann que integre por sumas de Riemann la función $e^{-x^2}$ entre 0 y 1. Tome las iteraciones necesarias."
   ]
  },
  {
   "cell_type": "code",
   "execution_count": 15,
   "metadata": {},
   "outputs": [],
   "source": [
    "def integral_riemann():\n",
    "    return 1.25"
   ]
  },
  {
   "cell_type": "code",
   "execution_count": 16,
   "metadata": {},
   "outputs": [
    {
     "data": {
      "text/plain": [
       "array([1.  , 1.05, 1.1 , 1.15, 1.2 , 1.25, 1.3 , 1.35, 1.4 , 1.45, 1.5 ,\n",
       "       1.55, 1.6 , 1.65, 1.7 , 1.75, 1.8 , 1.85, 1.9 , 1.95, 2.  ])"
      ]
     },
     "execution_count": 16,
     "metadata": {},
     "output_type": "execute_result"
    }
   ],
   "source": [
    "X=np.linspace(1,2,21)\n",
    "X"
   ]
  },
  {
   "cell_type": "code",
   "execution_count": 17,
   "metadata": {},
   "outputs": [
    {
     "name": "stdout",
     "output_type": "stream",
     "text": [
      "Resultado Incorrecto\n"
     ]
    },
    {
     "ename": "AssertionError",
     "evalue": "",
     "output_type": "error",
     "traceback": [
      "\u001b[0;31m---------------------------------------------------------------------------\u001b[0m",
      "\u001b[0;31mAssertionError\u001b[0m                            Traceback (most recent call last)",
      "\u001b[0;32m<ipython-input-17-1f01203ae81e>\u001b[0m in \u001b[0;36m<module>\u001b[0;34m\u001b[0m\n\u001b[1;32m      3\u001b[0m \u001b[0mtest1\u001b[0m\u001b[0;34m(\u001b[0m\u001b[0;36m1\u001b[0m\u001b[0;34m,\u001b[0m\u001b[0;36m2\u001b[0m\u001b[0;34m,\u001b[0m\u001b[0;36m3\u001b[0m\u001b[0;34m)\u001b[0m\u001b[0;34m\u001b[0m\u001b[0;34m\u001b[0m\u001b[0m\n\u001b[1;32m      4\u001b[0m \u001b[0;31m#Esto es lo que está adentro del assert:\u001b[0m\u001b[0;34m\u001b[0m\u001b[0;34m\u001b[0m\u001b[0;34m\u001b[0m\u001b[0m\n\u001b[0;32m----> 5\u001b[0;31m \u001b[0;32massert\u001b[0m \u001b[0mnp\u001b[0m\u001b[0;34m.\u001b[0m\u001b[0mabs\u001b[0m\u001b[0;34m(\u001b[0m\u001b[0mintegral_riemann\u001b[0m\u001b[0;34m(\u001b[0m\u001b[0;34m)\u001b[0m\u001b[0;34m-\u001b[0m\u001b[0;36m0.746824132812427\u001b[0m\u001b[0;34m)\u001b[0m\u001b[0;34m<\u001b[0m\u001b[0;36m1e-6\u001b[0m\u001b[0;34m\u001b[0m\u001b[0;34m\u001b[0m\u001b[0m\n\u001b[0m",
      "\u001b[0;31mAssertionError\u001b[0m: "
     ]
    }
   ],
   "source": [
    "#¿el código es correcto? no borrar esta línea, ingresar los mismos valores de entrada de su\n",
    "#función\n",
    "test1(1,2,3)\n",
    "#Esto es lo que está adentro del assert:\n",
    "assert np.abs(integral_riemann()-0.746824132812427)<1e-6"
   ]
  },
  {
   "cell_type": "markdown",
   "metadata": {},
   "source": [
    "## 2. Método del trapecio\n",
    "En lugar de aproximar el área por la suma de rectángulos lo haremos por sumas de trapecios, en donde la parte superior de cada trapecio se aproxima como una recta. Después de hacer la suma de las áreas de los trapecios se obtiene la fórmula:\n",
    "$$\\int_{a}^{b}f(x)dx=\\Delta x \\left(\\frac{y_0}{2}+\\sum_{i=1}^{n-1}f(x_{i})+\\frac{y_{n}}{2} \\right)$$\n",
    "Con $\\Delta x=\\frac{b-a}{n}$, $a\\leq x_{i}\\leq b$ y podemos escoger los $x_{i}$ de tal forma que:\n",
    "$$x_{i}=a+i\\Delta x, $$\n",
    "Con $i=0,..,n-1$\n",
    "\n",
    "* Cree una función en python llamada integral_trapecio que integre por la regla del trapecio la función $e^{-x^2}$ entre 0 y 1.\n"
   ]
  },
  {
   "cell_type": "code",
   "execution_count": 5,
   "metadata": {},
   "outputs": [],
   "source": [
    "def integral_trapecio():\n",
    "    return \n"
   ]
  },
  {
   "cell_type": "code",
   "execution_count": 6,
   "metadata": {},
   "outputs": [
    {
     "name": "stdout",
     "output_type": "stream",
     "text": [
      "Resultado Incorrecto\n"
     ]
    }
   ],
   "source": [
    "#¿el código es correcto? no borrar esta línea, ingresar los mismos valores den entrada de su\n",
    "#función\n",
    "test2()"
   ]
  },
  {
   "cell_type": "code",
   "execution_count": null,
   "metadata": {},
   "outputs": [],
   "source": []
  }
 ],
 "metadata": {
  "kernelspec": {
   "display_name": "Python 3",
   "language": "python",
   "name": "python3"
  },
  "language_info": {
   "codemirror_mode": {
    "name": "ipython",
    "version": 3
   },
   "file_extension": ".py",
   "mimetype": "text/x-python",
   "name": "python",
   "nbconvert_exporter": "python",
   "pygments_lexer": "ipython3",
   "version": "3.8.3"
  }
 },
 "nbformat": 4,
 "nbformat_minor": 4
}
