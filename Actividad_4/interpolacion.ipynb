{
 "cells": [
  {
   "cell_type": "markdown",
   "metadata": {},
   "source": [
    "# Interpolación de Lagrange"
   ]
  },
  {
   "cell_type": "code",
   "execution_count": 25,
   "metadata": {},
   "outputs": [],
   "source": [
    "import numpy as np\n",
    "import pandas as pd"
   ]
  },
  {
   "cell_type": "code",
   "execution_count": 34,
   "metadata": {},
   "outputs": [],
   "source": [
    "#(1,-1.2);(2,2.3);(3,3.5)\n",
    "X=np.array([1,2,3])\n",
    "Y=np.array([-1.2,2.3,3.5])\n",
    "#Ahora lo hacemos con los tres puntos de la tabla\n",
    "datos=pd.read_csv(\"vapor_Saturado.csv\",delimiter=\",\")"
   ]
  },
  {
   "cell_type": "code",
   "execution_count": 33,
   "metadata": {},
   "outputs": [
    {
     "data": {
      "text/html": [
       "<div>\n",
       "<style scoped>\n",
       "    .dataframe tbody tr th:only-of-type {\n",
       "        vertical-align: middle;\n",
       "    }\n",
       "\n",
       "    .dataframe tbody tr th {\n",
       "        vertical-align: top;\n",
       "    }\n",
       "\n",
       "    .dataframe thead th {\n",
       "        text-align: right;\n",
       "    }\n",
       "</style>\n",
       "<table border=\"1\" class=\"dataframe\">\n",
       "  <thead>\n",
       "    <tr style=\"text-align: right;\">\n",
       "      <th></th>\n",
       "      <th>T(°C)</th>\n",
       "      <th>P_sat(kPa)</th>\n",
       "      <th>v_f(m^3/kg)</th>\n",
       "      <th>v_g(m^3/kg)</th>\n",
       "    </tr>\n",
       "  </thead>\n",
       "  <tbody>\n",
       "    <tr>\n",
       "      <th>0</th>\n",
       "      <td>205</td>\n",
       "      <td>1724.3</td>\n",
       "      <td>0.000116</td>\n",
       "      <td>0.11508</td>\n",
       "    </tr>\n",
       "    <tr>\n",
       "      <th>1</th>\n",
       "      <td>210</td>\n",
       "      <td>1907.7</td>\n",
       "      <td>0.001173</td>\n",
       "      <td>0.10429</td>\n",
       "    </tr>\n",
       "    <tr>\n",
       "      <th>2</th>\n",
       "      <td>215</td>\n",
       "      <td>2105.9</td>\n",
       "      <td>0.001180</td>\n",
       "      <td>0.09468</td>\n",
       "    </tr>\n",
       "  </tbody>\n",
       "</table>\n",
       "</div>"
      ],
      "text/plain": [
       "   T(°C)  P_sat(kPa)  v_f(m^3/kg)  v_g(m^3/kg)\n",
       "0    205      1724.3     0.000116      0.11508\n",
       "1    210      1907.7     0.001173      0.10429\n",
       "2    215      2105.9     0.001180      0.09468"
      ]
     },
     "execution_count": 33,
     "metadata": {},
     "output_type": "execute_result"
    }
   ],
   "source": [
    "datos"
   ]
  },
  {
   "cell_type": "markdown",
   "metadata": {},
   "source": [
    "## Formula para los coeficientes de interpolación:\n",
    "x: Punto a interpolar ; n: número de puntos-1\n",
    "    $$ L_{i}(x)=\\Pi_{j=0,j\\neq i}^{n}\\frac{(x-x_{j})}{(x_{i}-x_{j})} $$\n",
    "$$ p(x)=\\sum_{i=0}^{n}y_{i}*L_{i}(x)$$ "
   ]
  },
  {
   "cell_type": "code",
   "execution_count": 12,
   "metadata": {},
   "outputs": [],
   "source": [
    "#Coeficientes de p(x\n",
    "#x: punto a interpolar\n",
    "#X: datos en x, Y datos en y\n",
    "def L0(x,X):#i=0, j=1,2\n",
    "    return (x-X[1])*(x-X[2])/((X[0]-X[1])*(X[0]-X[2]))\n",
    "def L1(x,X):#i=1,j=0,2\n",
    "    return (x-X[0])*(x-X[2])/((X[1]-X[0])*(X[1]-X[2]))\n",
    "def L2(x,X):#i=1,j=0,1\n",
    "    return (x-X[0])*(x-X[1])/((X[2]-X[0])*(X[2]-X[1]))"
   ]
  },
  {
   "cell_type": "code",
   "execution_count": 13,
   "metadata": {},
   "outputs": [],
   "source": [
    "#sumatoria para el polinomio\n",
    "def p_lagrange(x,X,Y):\n",
    "    return L0(x,X)*Y[0]+L1(x,X)*Y[1]+L2(x,X)*Y[2]"
   ]
  },
  {
   "cell_type": "code",
   "execution_count": 14,
   "metadata": {},
   "outputs": [
    {
     "data": {
      "text/plain": [
       "0.8374999999999999"
      ]
     },
     "execution_count": 14,
     "metadata": {},
     "output_type": "execute_result"
    }
   ],
   "source": [
    "p_lagrange(1.5,X,Y)"
   ]
  },
  {
   "cell_type": "code",
   "execution_count": 15,
   "metadata": {},
   "outputs": [],
   "source": [
    "import sympy as sy"
   ]
  },
  {
   "cell_type": "code",
   "execution_count": 16,
   "metadata": {},
   "outputs": [],
   "source": [
    "x=sy.symbols('x')"
   ]
  },
  {
   "cell_type": "code",
   "execution_count": 24,
   "metadata": {},
   "outputs": [
    {
     "name": "stdout",
     "output_type": "stream",
     "text": [
      "(x - 3)*(x - 2)/2\n"
     ]
    }
   ],
   "source": [
    "print(L0(x,X))"
   ]
  },
  {
   "cell_type": "code",
   "execution_count": 23,
   "metadata": {},
   "outputs": [
    {
     "name": "stdout",
     "output_type": "stream",
     "text": [
      "-(x - 3)*(x - 1)\n"
     ]
    }
   ],
   "source": [
    "print(L1(x,X))"
   ]
  },
  {
   "cell_type": "code",
   "execution_count": 22,
   "metadata": {},
   "outputs": [
    {
     "name": "stdout",
     "output_type": "stream",
     "text": [
      "(x - 2)*(x - 1)/2\n"
     ]
    }
   ],
   "source": [
    "print(L2(x,X))"
   ]
  },
  {
   "cell_type": "code",
   "execution_count": 21,
   "metadata": {},
   "outputs": [
    {
     "name": "stdout",
     "output_type": "stream",
     "text": [
      "-0.6*(x - 3)*(x - 2) - 2.3*(x - 3)*(x - 1) + 1.75*(x - 2)*(x - 1)\n"
     ]
    }
   ],
   "source": [
    "print(p_lagrange(x,X,Y))"
   ]
  },
  {
   "cell_type": "code",
   "execution_count": null,
   "metadata": {},
   "outputs": [],
   "source": []
  }
 ],
 "metadata": {
  "kernelspec": {
   "display_name": "Python 3",
   "language": "python",
   "name": "python3"
  },
  "language_info": {
   "codemirror_mode": {
    "name": "ipython",
    "version": 3
   },
   "file_extension": ".py",
   "mimetype": "text/x-python",
   "name": "python",
   "nbconvert_exporter": "python",
   "pygments_lexer": "ipython3",
   "version": "3.8.3"
  }
 },
 "nbformat": 4,
 "nbformat_minor": 4
}
