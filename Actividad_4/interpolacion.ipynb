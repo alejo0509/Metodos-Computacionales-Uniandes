{
 "cells": [
  {
   "cell_type": "markdown",
   "metadata": {},
   "source": [
    "# Interpolación de Lagrange"
   ]
  },
  {
   "cell_type": "code",
   "execution_count": 4,
   "metadata": {},
   "outputs": [],
   "source": [
    "import numpy as np\n",
    "import pandas as pd"
   ]
  },
  {
   "cell_type": "code",
   "execution_count": 5,
   "metadata": {},
   "outputs": [],
   "source": [
    "#Hacemos la interpolación con tres puntos de la tabla\n",
    "#(205,1724.3);(210,1907.7);(215,2105.9)\n",
    "X=np.array([205,210,215])\n",
    "Y=np.array([1724.3,1907.7,2105.9])\n"
   ]
  },
  {
   "cell_type": "code",
   "execution_count": 6,
   "metadata": {},
   "outputs": [],
   "source": [
    "# datos=pd.read_csv(\"vapor_Saturado.csv\",delimiter=\",\")\n",
    "# datos"
   ]
  },
  {
   "cell_type": "markdown",
   "metadata": {},
   "source": [
    "## Formula para los coeficientes de interpolación:\n",
    "x: Punto a interpolar ; n: número de puntos-1\n",
    "    $$ L_{i}(x)=\\Pi_{j=0,j\\neq i}^{n}\\frac{(x-x_{j})}{(x_{i}-x_{j})} $$\n",
    "$$ p(x)=\\sum_{i=0}^{n}y_{i}*L_{i}(x)$$ "
   ]
  },
  {
   "cell_type": "code",
   "execution_count": 7,
   "metadata": {},
   "outputs": [],
   "source": [
    "#Coeficientes de p(x\n",
    "#x: punto a interpolar\n",
    "#X: datos en x, Y datos en y\n",
    "def L0(x,X):#i=0, j=1,2\n",
    "    return (x-X[1])*(x-X[2])/((X[0]-X[1])*(X[0]-X[2]))\n",
    "def L1(x,X):#i=1,j=0,2\n",
    "    return (x-X[0])*(x-X[2])/((X[1]-X[0])*(X[1]-X[2]))\n",
    "def L2(x,X):#i=1,j=0,1\n",
    "    return (x-X[0])*(x-X[1])/((X[2]-X[0])*(X[2]-X[1]))"
   ]
  },
  {
   "cell_type": "code",
   "execution_count": 8,
   "metadata": {},
   "outputs": [],
   "source": [
    "#sumatoria para el polinomio\n",
    "def p_lagrange(x,X,Y):\n",
    "    return L0(x,X)*Y[0]+L1(x,X)*Y[1]+L2(x,X)*Y[2]"
   ]
  },
  {
   "cell_type": "code",
   "execution_count": 9,
   "metadata": {},
   "outputs": [
    {
     "data": {
      "text/plain": [
       "6819.125999999465"
      ]
     },
     "execution_count": 9,
     "metadata": {},
     "output_type": "execute_result"
    }
   ],
   "source": [
    "p_lagrange(1.5,X,Y)"
   ]
  },
  {
   "cell_type": "code",
   "execution_count": 10,
   "metadata": {},
   "outputs": [],
   "source": [
    "import sympy as sy"
   ]
  },
  {
   "cell_type": "code",
   "execution_count": 11,
   "metadata": {},
   "outputs": [],
   "source": [
    "x=sy.symbols('x')"
   ]
  },
  {
   "cell_type": "code",
   "execution_count": 12,
   "metadata": {},
   "outputs": [
    {
     "name": "stdout",
     "output_type": "stream",
     "text": [
      "(x - 215)*(x - 210)/50\n"
     ]
    }
   ],
   "source": [
    "print(L0(x,X))"
   ]
  },
  {
   "cell_type": "code",
   "execution_count": 13,
   "metadata": {},
   "outputs": [
    {
     "name": "stdout",
     "output_type": "stream",
     "text": [
      "-(x - 215)*(x - 205)/25\n"
     ]
    }
   ],
   "source": [
    "print(L1(x,X))"
   ]
  },
  {
   "cell_type": "code",
   "execution_count": 14,
   "metadata": {},
   "outputs": [
    {
     "name": "stdout",
     "output_type": "stream",
     "text": [
      "(x - 210)*(x - 205)/50\n"
     ]
    }
   ],
   "source": [
    "print(L2(x,X))"
   ]
  },
  {
   "cell_type": "code",
   "execution_count": 15,
   "metadata": {},
   "outputs": [
    {
     "name": "stdout",
     "output_type": "stream",
     "text": [
      "34.486*(x - 215)*(x - 210) - 76.308*(x - 215)*(x - 205) + 42.118*(x - 210)*(x - 205)\n"
     ]
    }
   ],
   "source": [
    "print(p_lagrange(x,X,Y))"
   ]
  },
  {
   "cell_type": "code",
   "execution_count": null,
   "metadata": {},
   "outputs": [],
   "source": []
  }
 ],
 "metadata": {
  "kernelspec": {
   "display_name": "Python 3",
   "language": "python",
   "name": "python3"
  },
  "language_info": {
   "codemirror_mode": {
    "name": "ipython",
    "version": 3
   },
   "file_extension": ".py",
   "mimetype": "text/x-python",
   "name": "python",
   "nbconvert_exporter": "python",
   "pygments_lexer": "ipython3",
   "version": "3.8.3"
  }
 },
 "nbformat": 4,
 "nbformat_minor": 4
}
