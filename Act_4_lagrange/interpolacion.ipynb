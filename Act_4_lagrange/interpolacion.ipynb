{
 "cells": [
  {
   "cell_type": "markdown",
   "metadata": {},
   "source": [
    "# <center> Interpolación de Lagrange <center>"
   ]
  },
  {
   "cell_type": "code",
   "execution_count": 188,
   "metadata": {},
   "outputs": [],
   "source": [
    "import numpy as np\n",
    "import pandas as pd\n",
    "import matplotlib.pyplot as plt"
   ]
  },
  {
   "cell_type": "markdown",
   "metadata": {},
   "source": [
    "## 1. Ejemplo 3 puntos"
   ]
  },
  {
   "cell_type": "code",
   "execution_count": 2,
   "metadata": {},
   "outputs": [],
   "source": [
    "#Hacemos la interpolación con tres puntos de la tabla\n",
    "#(205,1724.3);(210,1907.7);(215,2105.9)\n",
    "X=np.array([205,210,215])\n",
    "Y=np.array([1724.3,1907.7,2105.9])\n"
   ]
  },
  {
   "cell_type": "code",
   "execution_count": 3,
   "metadata": {},
   "outputs": [
    {
     "name": "stdout",
     "output_type": "stream",
     "text": [
      "   T(°C)  P_sat(kPa)  v_f(m^3/kg)  v_g(m^3/kg)\n",
      "0    205      1724.3     0.000116      0.11508\n",
      "1    210      1907.7     0.001173      0.10429\n",
      "2    215      2105.9     0.001180      0.09468\n"
     ]
    }
   ],
   "source": [
    "datos=pd.read_csv(\"vapor_Saturado.csv\",delimiter=\",\")\n",
    "print(datos)\n",
    "X=datos['T(°C)']"
   ]
  },
  {
   "cell_type": "markdown",
   "metadata": {},
   "source": [
    "## Formula para los coeficientes de interpolación:\n",
    "x: Punto a interpolar ; n: número de puntos-1\n",
    "    $$ L_{i}(x)=\\Pi_{j=0,j\\neq i}^{n}\\frac{(x-x_{j})}{(x_{i}-x_{j})} $$ $ i=0,...,n$\n",
    "$$ p(x)=\\sum_{i=0}^{n}y_{i}*L_{i}(x)$$ "
   ]
  },
  {
   "cell_type": "code",
   "execution_count": 4,
   "metadata": {},
   "outputs": [],
   "source": [
    "#Coeficientes de p(x\n",
    "#x: punto a interpolar\n",
    "#X: datos en x, Y datos en y\n",
    "def L0(x,X):#i=0, j=1,2\n",
    "    return (x-X[1])*(x-X[2])/((X[0]-X[1])*(X[0]-X[2]))\n",
    "def L1(x,X):#i=1,j=0,2\n",
    "    return (x-X[0])*(x-X[2])/((X[1]-X[0])*(X[1]-X[2]))\n",
    "def L2(x,X):#i=1,j=0,1\n",
    "    return (x-X[0])*(x-X[1])/((X[2]-X[0])*(X[2]-X[1]))"
   ]
  },
  {
   "cell_type": "code",
   "execution_count": 5,
   "metadata": {},
   "outputs": [],
   "source": [
    "#sumatoria para el polinomio\n",
    "def p_lagrange(x,X,Y):\n",
    "    return L0(x,X)*Y[0]+L1(x,X)*Y[1]+L2(x,X)*Y[2]"
   ]
  },
  {
   "cell_type": "code",
   "execution_count": 6,
   "metadata": {},
   "outputs": [
    {
     "data": {
      "text/plain": [
       "1814.1499999999999"
      ]
     },
     "execution_count": 6,
     "metadata": {},
     "output_type": "execute_result"
    }
   ],
   "source": [
    "x=207.5#K; valor a interpolar\n",
    "p_lagrange(x,X,Y)"
   ]
  },
  {
   "cell_type": "code",
   "execution_count": 7,
   "metadata": {},
   "outputs": [],
   "source": [
    "import sympy as sy"
   ]
  },
  {
   "cell_type": "code",
   "execution_count": 8,
   "metadata": {},
   "outputs": [],
   "source": [
    "x=sy.symbols('x')"
   ]
  },
  {
   "cell_type": "code",
   "execution_count": 9,
   "metadata": {},
   "outputs": [
    {
     "data": {
      "text/latex": [
       "$\\displaystyle \\frac{\\left(x - 215\\right) \\left(x - 210\\right)}{50}$"
      ],
      "text/plain": [
       "(x - 215)*(x - 210)/50"
      ]
     },
     "execution_count": 9,
     "metadata": {},
     "output_type": "execute_result"
    }
   ],
   "source": [
    "L0(x,X)"
   ]
  },
  {
   "cell_type": "code",
   "execution_count": 10,
   "metadata": {},
   "outputs": [
    {
     "name": "stdout",
     "output_type": "stream",
     "text": [
      "-(x - 215)*(x - 205)/25\n"
     ]
    }
   ],
   "source": [
    "print(L1(x,X))"
   ]
  },
  {
   "cell_type": "code",
   "execution_count": 11,
   "metadata": {},
   "outputs": [
    {
     "name": "stdout",
     "output_type": "stream",
     "text": [
      "(x - 210)*(x - 205)/50\n"
     ]
    }
   ],
   "source": [
    "print(L2(x,X))"
   ]
  },
  {
   "cell_type": "code",
   "execution_count": 12,
   "metadata": {},
   "outputs": [
    {
     "name": "stdout",
     "output_type": "stream",
     "text": [
      "34.486*(x - 215)*(x - 210) - 76.308*(x - 215)*(x - 205) + 42.118*(x - 210)*(x - 205)\n"
     ]
    }
   ],
   "source": [
    "print(p_lagrange(x,X,Y))"
   ]
  },
  {
   "cell_type": "code",
   "execution_count": 13,
   "metadata": {},
   "outputs": [
    {
     "data": {
      "text/latex": [
       "$\\displaystyle 0.295999999999992 x^{2} - 86.1599999999962 x + 6947.69999999972$"
      ],
      "text/plain": [
       "0.295999999999992*x**2 - 86.1599999999962*x + 6947.69999999972"
      ]
     },
     "execution_count": 13,
     "metadata": {},
     "output_type": "execute_result"
    }
   ],
   "source": [
    "sy.expand(p_lagrange(x,X,Y))"
   ]
  },
  {
   "cell_type": "markdown",
   "metadata": {},
   "source": [
    "## 2. Interpolación de P vs T  y generalización programa Lagrange"
   ]
  },
  {
   "cell_type": "code",
   "execution_count": 179,
   "metadata": {},
   "outputs": [],
   "source": [
    "#base del polinomio L_i\n",
    "def L(i,x,X,n):#i=0, j=1,2\n",
    "    prod=1\n",
    "    for j in range(n):\n",
    "        if(i!=j):\n",
    "            prod*=(x-X[j])/(X[i]-X[j])\n",
    "    return prod\n",
    "#Calculo de los polinomios haciendo una sumatoria de los productos L_iy_i\n",
    "def p_lagrange(x,X,Y):\n",
    "    n=len(X)\n",
    "    suma=0\n",
    "    for i in range(n):\n",
    "#         print(type(L(i,x,X,n)))\n",
    "#         print(type(Y[i]))\n",
    "        suma+=L(i,x,X,n)*Y[i]\n",
    "    return suma"
   ]
  },
  {
   "cell_type": "code",
   "execution_count": null,
   "metadata": {},
   "outputs": [],
   "source": []
  },
  {
   "cell_type": "code",
   "execution_count": 202,
   "metadata": {},
   "outputs": [
    {
     "data": {
      "text/html": [
       "<div>\n",
       "<style scoped>\n",
       "    .dataframe tbody tr th:only-of-type {\n",
       "        vertical-align: middle;\n",
       "    }\n",
       "\n",
       "    .dataframe tbody tr th {\n",
       "        vertical-align: top;\n",
       "    }\n",
       "\n",
       "    .dataframe thead tr th {\n",
       "        text-align: left;\n",
       "    }\n",
       "</style>\n",
       "<table border=\"1\" class=\"dataframe\">\n",
       "  <thead>\n",
       "    <tr>\n",
       "      <th></th>\n",
       "      <th>Temp. (°C)</th>\n",
       "      <th>Sat. press. (kPa)</th>\n",
       "      <th>Specific volume  (m3/kg)</th>\n",
       "      <th>Unnamed: 3_level_0</th>\n",
       "      <th>Internal energy  (kJ/kg)</th>\n",
       "      <th>Unnamed: 5_level_0</th>\n",
       "      <th>Unnamed: 6_level_0</th>\n",
       "      <th>Enthalpy  (kJ/kg)</th>\n",
       "      <th>Unnamed: 8_level_0</th>\n",
       "      <th>Unnamed: 9_level_0</th>\n",
       "      <th>Entropy  (kJ/kg·K)</th>\n",
       "      <th>Unnamed: 11_level_0</th>\n",
       "      <th>Unnamed: 12_level_0</th>\n",
       "    </tr>\n",
       "    <tr>\n",
       "      <th></th>\n",
       "      <th>Temp.</th>\n",
       "      <th>Sat. press.</th>\n",
       "      <th>Sat. liquid.</th>\n",
       "      <th>Sat.vapor.</th>\n",
       "      <th>Sat. liquid.</th>\n",
       "      <th>Evap.</th>\n",
       "      <th>Sat.vapor.</th>\n",
       "      <th>Sat. liquid.</th>\n",
       "      <th>Evap.</th>\n",
       "      <th>Sat.vapor.</th>\n",
       "      <th>Sat. liquid.</th>\n",
       "      <th>Evap.</th>\n",
       "      <th>Sat.vapor.</th>\n",
       "    </tr>\n",
       "    <tr>\n",
       "      <th></th>\n",
       "      <th>T</th>\n",
       "      <th>Psat</th>\n",
       "      <th>v_f</th>\n",
       "      <th>v_g</th>\n",
       "      <th>u_f</th>\n",
       "      <th>u_fg</th>\n",
       "      <th>u_g</th>\n",
       "      <th>h_f</th>\n",
       "      <th>h_fg</th>\n",
       "      <th>h_g</th>\n",
       "      <th>s_f</th>\n",
       "      <th>s_fg</th>\n",
       "      <th>s_g</th>\n",
       "    </tr>\n",
       "  </thead>\n",
       "  <tbody>\n",
       "    <tr>\n",
       "      <th>0</th>\n",
       "      <td>0.01</td>\n",
       "      <td>0.6117</td>\n",
       "      <td>0.001000</td>\n",
       "      <td>206.000000</td>\n",
       "      <td>0.000</td>\n",
       "      <td>2374.9</td>\n",
       "      <td>2374.90</td>\n",
       "      <td>0.001</td>\n",
       "      <td>2500.9</td>\n",
       "      <td>2500.9</td>\n",
       "      <td>0.0000</td>\n",
       "      <td>9.1556</td>\n",
       "      <td>9.1556</td>\n",
       "    </tr>\n",
       "    <tr>\n",
       "      <th>1</th>\n",
       "      <td>5.00</td>\n",
       "      <td>0.8725</td>\n",
       "      <td>0.001000</td>\n",
       "      <td>147.030000</td>\n",
       "      <td>21.019</td>\n",
       "      <td>2360.8</td>\n",
       "      <td>2381.80</td>\n",
       "      <td>21.020</td>\n",
       "      <td>2489.1</td>\n",
       "      <td>2510.1</td>\n",
       "      <td>0.0763</td>\n",
       "      <td>8.9487</td>\n",
       "      <td>9.0249</td>\n",
       "    </tr>\n",
       "    <tr>\n",
       "      <th>2</th>\n",
       "      <td>10.00</td>\n",
       "      <td>1.2281</td>\n",
       "      <td>0.001000</td>\n",
       "      <td>106.220000</td>\n",
       "      <td>42.020</td>\n",
       "      <td>2346.6</td>\n",
       "      <td>238.87</td>\n",
       "      <td>42.022</td>\n",
       "      <td>2477.2</td>\n",
       "      <td>2519.2</td>\n",
       "      <td>0.1511</td>\n",
       "      <td>8.7488</td>\n",
       "      <td>8.8999</td>\n",
       "    </tr>\n",
       "    <tr>\n",
       "      <th>3</th>\n",
       "      <td>15.00</td>\n",
       "      <td>1.7057</td>\n",
       "      <td>0.001001</td>\n",
       "      <td>77.885000</td>\n",
       "      <td>62.980</td>\n",
       "      <td>2332.5</td>\n",
       "      <td>2395.50</td>\n",
       "      <td>62.982</td>\n",
       "      <td>2465.4</td>\n",
       "      <td>2528.3</td>\n",
       "      <td>0.2245</td>\n",
       "      <td>8.5559</td>\n",
       "      <td>8.7803</td>\n",
       "    </tr>\n",
       "    <tr>\n",
       "      <th>4</th>\n",
       "      <td>20.00</td>\n",
       "      <td>2.3392</td>\n",
       "      <td>0.001002</td>\n",
       "      <td>57.762000</td>\n",
       "      <td>83.913</td>\n",
       "      <td>2318.4</td>\n",
       "      <td>2402.30</td>\n",
       "      <td>83.915</td>\n",
       "      <td>2453.5</td>\n",
       "      <td>2537.4</td>\n",
       "      <td>0.2965</td>\n",
       "      <td>8.3696</td>\n",
       "      <td>8.6661</td>\n",
       "    </tr>\n",
       "    <tr>\n",
       "      <th>...</th>\n",
       "      <td>...</td>\n",
       "      <td>...</td>\n",
       "      <td>...</td>\n",
       "      <td>...</td>\n",
       "      <td>...</td>\n",
       "      <td>...</td>\n",
       "      <td>...</td>\n",
       "      <td>...</td>\n",
       "      <td>...</td>\n",
       "      <td>...</td>\n",
       "      <td>...</td>\n",
       "      <td>...</td>\n",
       "      <td>...</td>\n",
       "    </tr>\n",
       "    <tr>\n",
       "      <th>71</th>\n",
       "      <td>355.00</td>\n",
       "      <td>17570.0000</td>\n",
       "      <td>0.001808</td>\n",
       "      <td>0.007872</td>\n",
       "      <td>1682.200</td>\n",
       "      <td>706.4</td>\n",
       "      <td>2388.60</td>\n",
       "      <td>1714.000</td>\n",
       "      <td>812.9</td>\n",
       "      <td>2526.9</td>\n",
       "      <td>3.8442</td>\n",
       "      <td>1.2942</td>\n",
       "      <td>5.1384</td>\n",
       "    </tr>\n",
       "    <tr>\n",
       "      <th>72</th>\n",
       "      <td>360.00</td>\n",
       "      <td>18666.0000</td>\n",
       "      <td>0.001895</td>\n",
       "      <td>0.006950</td>\n",
       "      <td>1726.200</td>\n",
       "      <td>625.7</td>\n",
       "      <td>2351.90</td>\n",
       "      <td>1761.500</td>\n",
       "      <td>720.1</td>\n",
       "      <td>2481.6</td>\n",
       "      <td>3.9165</td>\n",
       "      <td>1.1373</td>\n",
       "      <td>5.0537</td>\n",
       "    </tr>\n",
       "    <tr>\n",
       "      <th>73</th>\n",
       "      <td>365.00</td>\n",
       "      <td>19822.0000</td>\n",
       "      <td>0.002015</td>\n",
       "      <td>0.006009</td>\n",
       "      <td>1777.200</td>\n",
       "      <td>526.4</td>\n",
       "      <td>2303.60</td>\n",
       "      <td>1817.200</td>\n",
       "      <td>605.5</td>\n",
       "      <td>2422.7</td>\n",
       "      <td>4.0004</td>\n",
       "      <td>0.9489</td>\n",
       "      <td>4.9493</td>\n",
       "    </tr>\n",
       "    <tr>\n",
       "      <th>74</th>\n",
       "      <td>370.00</td>\n",
       "      <td>21044.0000</td>\n",
       "      <td>0.002217</td>\n",
       "      <td>0.004953</td>\n",
       "      <td>1844.500</td>\n",
       "      <td>385.6</td>\n",
       "      <td>2230.10</td>\n",
       "      <td>1891.200</td>\n",
       "      <td>443.1</td>\n",
       "      <td>2334.3</td>\n",
       "      <td>4.1119</td>\n",
       "      <td>0.6890</td>\n",
       "      <td>4.8009</td>\n",
       "    </tr>\n",
       "    <tr>\n",
       "      <th>75</th>\n",
       "      <td>373.95</td>\n",
       "      <td>22064.0000</td>\n",
       "      <td>0.003106</td>\n",
       "      <td>0.003106</td>\n",
       "      <td>2015.700</td>\n",
       "      <td>0.0</td>\n",
       "      <td>2015.70</td>\n",
       "      <td>2084.300</td>\n",
       "      <td>0.0</td>\n",
       "      <td>2084.3</td>\n",
       "      <td>4.4070</td>\n",
       "      <td>0.0000</td>\n",
       "      <td>4.4070</td>\n",
       "    </tr>\n",
       "  </tbody>\n",
       "</table>\n",
       "<p>76 rows × 13 columns</p>\n",
       "</div>"
      ],
      "text/plain": [
       "   Temp. (°C) Sat. press. (kPa) Specific volume  (m3/kg) Unnamed: 3_level_0  \\\n",
       "        Temp.       Sat. press.             Sat. liquid.         Sat.vapor.   \n",
       "            T              Psat                      v_f                v_g   \n",
       "0        0.01            0.6117                 0.001000         206.000000   \n",
       "1        5.00            0.8725                 0.001000         147.030000   \n",
       "2       10.00            1.2281                 0.001000         106.220000   \n",
       "3       15.00            1.7057                 0.001001          77.885000   \n",
       "4       20.00            2.3392                 0.001002          57.762000   \n",
       "..        ...               ...                      ...                ...   \n",
       "71     355.00        17570.0000                 0.001808           0.007872   \n",
       "72     360.00        18666.0000                 0.001895           0.006950   \n",
       "73     365.00        19822.0000                 0.002015           0.006009   \n",
       "74     370.00        21044.0000                 0.002217           0.004953   \n",
       "75     373.95        22064.0000                 0.003106           0.003106   \n",
       "\n",
       "   Internal energy  (kJ/kg) Unnamed: 5_level_0 Unnamed: 6_level_0  \\\n",
       "               Sat. liquid.              Evap.         Sat.vapor.   \n",
       "                        u_f               u_fg                u_g   \n",
       "0                     0.000             2374.9            2374.90   \n",
       "1                    21.019             2360.8            2381.80   \n",
       "2                    42.020             2346.6             238.87   \n",
       "3                    62.980             2332.5            2395.50   \n",
       "4                    83.913             2318.4            2402.30   \n",
       "..                      ...                ...                ...   \n",
       "71                 1682.200              706.4            2388.60   \n",
       "72                 1726.200              625.7            2351.90   \n",
       "73                 1777.200              526.4            2303.60   \n",
       "74                 1844.500              385.6            2230.10   \n",
       "75                 2015.700                0.0            2015.70   \n",
       "\n",
       "   Enthalpy  (kJ/kg) Unnamed: 8_level_0 Unnamed: 9_level_0 Entropy  (kJ/kg·K)  \\\n",
       "        Sat. liquid.              Evap.         Sat.vapor.       Sat. liquid.   \n",
       "                 h_f               h_fg                h_g                s_f   \n",
       "0              0.001             2500.9             2500.9             0.0000   \n",
       "1             21.020             2489.1             2510.1             0.0763   \n",
       "2             42.022             2477.2             2519.2             0.1511   \n",
       "3             62.982             2465.4             2528.3             0.2245   \n",
       "4             83.915             2453.5             2537.4             0.2965   \n",
       "..               ...                ...                ...                ...   \n",
       "71          1714.000              812.9             2526.9             3.8442   \n",
       "72          1761.500              720.1             2481.6             3.9165   \n",
       "73          1817.200              605.5             2422.7             4.0004   \n",
       "74          1891.200              443.1             2334.3             4.1119   \n",
       "75          2084.300                0.0             2084.3             4.4070   \n",
       "\n",
       "   Unnamed: 11_level_0 Unnamed: 12_level_0  \n",
       "                 Evap.          Sat.vapor.  \n",
       "                  s_fg                 s_g  \n",
       "0               9.1556              9.1556  \n",
       "1               8.9487              9.0249  \n",
       "2               8.7488              8.8999  \n",
       "3               8.5559              8.7803  \n",
       "4               8.3696              8.6661  \n",
       "..                 ...                 ...  \n",
       "71              1.2942              5.1384  \n",
       "72              1.1373              5.0537  \n",
       "73              0.9489              4.9493  \n",
       "74              0.6890              4.8009  \n",
       "75              0.0000              4.4070  \n",
       "\n",
       "[76 rows x 13 columns]"
      ]
     },
     "execution_count": 202,
     "metadata": {},
     "output_type": "execute_result"
    }
   ],
   "source": [
    "datos=pd.read_csv(\"thermodynamical_tables_water.csv\",delimiter=\"\\t\",header=[0,1,2])\n",
    "datos"
   ]
  },
  {
   "cell_type": "markdown",
   "metadata": {},
   "source": [
    "Opcional: Modificamos los indices para que queden los multiíndices de forma adecuada"
   ]
  },
  {
   "cell_type": "code",
   "execution_count": 203,
   "metadata": {},
   "outputs": [],
   "source": [
    "a=[x[j] for x in datos.columns for j in range(3)]\n",
    "a=np.reshape(a,[int(len(a)/3),3])\n",
    "a[3][0]=a[2][0]\n",
    "a[5][0]=a[4][0]\n",
    "a[6][0]=a[4][0]\n",
    "a[8][0]=a[7][0]\n",
    "a[9][0]=a[7][0]\n",
    "a[11][0]=a[10][0]\n",
    "a[12][0]=a[10][0]\n",
    "a=[tuple(a[i]) for i in range(len(a))]\n",
    "col_names =pd.MultiIndex.from_tuples(a)\n",
    "datos.columns=col_names"
   ]
  },
  {
   "cell_type": "code",
   "execution_count": 204,
   "metadata": {},
   "outputs": [
    {
     "data": {
      "text/html": [
       "<div>\n",
       "<style scoped>\n",
       "    .dataframe tbody tr th:only-of-type {\n",
       "        vertical-align: middle;\n",
       "    }\n",
       "\n",
       "    .dataframe tbody tr th {\n",
       "        vertical-align: top;\n",
       "    }\n",
       "\n",
       "    .dataframe thead tr th {\n",
       "        text-align: left;\n",
       "    }\n",
       "</style>\n",
       "<table border=\"1\" class=\"dataframe\">\n",
       "  <thead>\n",
       "    <tr>\n",
       "      <th></th>\n",
       "      <th>Temp. (°C)</th>\n",
       "      <th>Sat. press. (kPa)</th>\n",
       "      <th colspan=\"2\" halign=\"left\">Specific volume  (m3/kg)</th>\n",
       "      <th colspan=\"3\" halign=\"left\">Internal energy  (kJ/kg)</th>\n",
       "      <th colspan=\"3\" halign=\"left\">Enthalpy  (kJ/kg)</th>\n",
       "      <th colspan=\"3\" halign=\"left\">Entropy  (kJ/kg·K)</th>\n",
       "    </tr>\n",
       "    <tr>\n",
       "      <th></th>\n",
       "      <th>Temp.</th>\n",
       "      <th>Sat. press.</th>\n",
       "      <th>Sat. liquid.</th>\n",
       "      <th>Sat.vapor.</th>\n",
       "      <th>Sat. liquid.</th>\n",
       "      <th>Evap.</th>\n",
       "      <th>Sat.vapor.</th>\n",
       "      <th>Sat. liquid.</th>\n",
       "      <th>Evap.</th>\n",
       "      <th>Sat.vapor.</th>\n",
       "      <th>Sat. liquid.</th>\n",
       "      <th>Evap.</th>\n",
       "      <th>Sat.vapor.</th>\n",
       "    </tr>\n",
       "    <tr>\n",
       "      <th></th>\n",
       "      <th>T</th>\n",
       "      <th>Psat</th>\n",
       "      <th>v_f</th>\n",
       "      <th>v_g</th>\n",
       "      <th>u_f</th>\n",
       "      <th>u_fg</th>\n",
       "      <th>u_g</th>\n",
       "      <th>h_f</th>\n",
       "      <th>h_fg</th>\n",
       "      <th>h_g</th>\n",
       "      <th>s_f</th>\n",
       "      <th>s_fg</th>\n",
       "      <th>s_g</th>\n",
       "    </tr>\n",
       "  </thead>\n",
       "  <tbody>\n",
       "    <tr>\n",
       "      <th>0</th>\n",
       "      <td>0.01</td>\n",
       "      <td>0.6117</td>\n",
       "      <td>0.001000</td>\n",
       "      <td>206.000000</td>\n",
       "      <td>0.000</td>\n",
       "      <td>2374.9</td>\n",
       "      <td>2374.90</td>\n",
       "      <td>0.001</td>\n",
       "      <td>2500.9</td>\n",
       "      <td>2500.9</td>\n",
       "      <td>0.0000</td>\n",
       "      <td>9.1556</td>\n",
       "      <td>9.1556</td>\n",
       "    </tr>\n",
       "    <tr>\n",
       "      <th>1</th>\n",
       "      <td>5.00</td>\n",
       "      <td>0.8725</td>\n",
       "      <td>0.001000</td>\n",
       "      <td>147.030000</td>\n",
       "      <td>21.019</td>\n",
       "      <td>2360.8</td>\n",
       "      <td>2381.80</td>\n",
       "      <td>21.020</td>\n",
       "      <td>2489.1</td>\n",
       "      <td>2510.1</td>\n",
       "      <td>0.0763</td>\n",
       "      <td>8.9487</td>\n",
       "      <td>9.0249</td>\n",
       "    </tr>\n",
       "    <tr>\n",
       "      <th>2</th>\n",
       "      <td>10.00</td>\n",
       "      <td>1.2281</td>\n",
       "      <td>0.001000</td>\n",
       "      <td>106.220000</td>\n",
       "      <td>42.020</td>\n",
       "      <td>2346.6</td>\n",
       "      <td>238.87</td>\n",
       "      <td>42.022</td>\n",
       "      <td>2477.2</td>\n",
       "      <td>2519.2</td>\n",
       "      <td>0.1511</td>\n",
       "      <td>8.7488</td>\n",
       "      <td>8.8999</td>\n",
       "    </tr>\n",
       "    <tr>\n",
       "      <th>3</th>\n",
       "      <td>15.00</td>\n",
       "      <td>1.7057</td>\n",
       "      <td>0.001001</td>\n",
       "      <td>77.885000</td>\n",
       "      <td>62.980</td>\n",
       "      <td>2332.5</td>\n",
       "      <td>2395.50</td>\n",
       "      <td>62.982</td>\n",
       "      <td>2465.4</td>\n",
       "      <td>2528.3</td>\n",
       "      <td>0.2245</td>\n",
       "      <td>8.5559</td>\n",
       "      <td>8.7803</td>\n",
       "    </tr>\n",
       "    <tr>\n",
       "      <th>4</th>\n",
       "      <td>20.00</td>\n",
       "      <td>2.3392</td>\n",
       "      <td>0.001002</td>\n",
       "      <td>57.762000</td>\n",
       "      <td>83.913</td>\n",
       "      <td>2318.4</td>\n",
       "      <td>2402.30</td>\n",
       "      <td>83.915</td>\n",
       "      <td>2453.5</td>\n",
       "      <td>2537.4</td>\n",
       "      <td>0.2965</td>\n",
       "      <td>8.3696</td>\n",
       "      <td>8.6661</td>\n",
       "    </tr>\n",
       "    <tr>\n",
       "      <th>...</th>\n",
       "      <td>...</td>\n",
       "      <td>...</td>\n",
       "      <td>...</td>\n",
       "      <td>...</td>\n",
       "      <td>...</td>\n",
       "      <td>...</td>\n",
       "      <td>...</td>\n",
       "      <td>...</td>\n",
       "      <td>...</td>\n",
       "      <td>...</td>\n",
       "      <td>...</td>\n",
       "      <td>...</td>\n",
       "      <td>...</td>\n",
       "    </tr>\n",
       "    <tr>\n",
       "      <th>71</th>\n",
       "      <td>355.00</td>\n",
       "      <td>17570.0000</td>\n",
       "      <td>0.001808</td>\n",
       "      <td>0.007872</td>\n",
       "      <td>1682.200</td>\n",
       "      <td>706.4</td>\n",
       "      <td>2388.60</td>\n",
       "      <td>1714.000</td>\n",
       "      <td>812.9</td>\n",
       "      <td>2526.9</td>\n",
       "      <td>3.8442</td>\n",
       "      <td>1.2942</td>\n",
       "      <td>5.1384</td>\n",
       "    </tr>\n",
       "    <tr>\n",
       "      <th>72</th>\n",
       "      <td>360.00</td>\n",
       "      <td>18666.0000</td>\n",
       "      <td>0.001895</td>\n",
       "      <td>0.006950</td>\n",
       "      <td>1726.200</td>\n",
       "      <td>625.7</td>\n",
       "      <td>2351.90</td>\n",
       "      <td>1761.500</td>\n",
       "      <td>720.1</td>\n",
       "      <td>2481.6</td>\n",
       "      <td>3.9165</td>\n",
       "      <td>1.1373</td>\n",
       "      <td>5.0537</td>\n",
       "    </tr>\n",
       "    <tr>\n",
       "      <th>73</th>\n",
       "      <td>365.00</td>\n",
       "      <td>19822.0000</td>\n",
       "      <td>0.002015</td>\n",
       "      <td>0.006009</td>\n",
       "      <td>1777.200</td>\n",
       "      <td>526.4</td>\n",
       "      <td>2303.60</td>\n",
       "      <td>1817.200</td>\n",
       "      <td>605.5</td>\n",
       "      <td>2422.7</td>\n",
       "      <td>4.0004</td>\n",
       "      <td>0.9489</td>\n",
       "      <td>4.9493</td>\n",
       "    </tr>\n",
       "    <tr>\n",
       "      <th>74</th>\n",
       "      <td>370.00</td>\n",
       "      <td>21044.0000</td>\n",
       "      <td>0.002217</td>\n",
       "      <td>0.004953</td>\n",
       "      <td>1844.500</td>\n",
       "      <td>385.6</td>\n",
       "      <td>2230.10</td>\n",
       "      <td>1891.200</td>\n",
       "      <td>443.1</td>\n",
       "      <td>2334.3</td>\n",
       "      <td>4.1119</td>\n",
       "      <td>0.6890</td>\n",
       "      <td>4.8009</td>\n",
       "    </tr>\n",
       "    <tr>\n",
       "      <th>75</th>\n",
       "      <td>373.95</td>\n",
       "      <td>22064.0000</td>\n",
       "      <td>0.003106</td>\n",
       "      <td>0.003106</td>\n",
       "      <td>2015.700</td>\n",
       "      <td>0.0</td>\n",
       "      <td>2015.70</td>\n",
       "      <td>2084.300</td>\n",
       "      <td>0.0</td>\n",
       "      <td>2084.3</td>\n",
       "      <td>4.4070</td>\n",
       "      <td>0.0000</td>\n",
       "      <td>4.4070</td>\n",
       "    </tr>\n",
       "  </tbody>\n",
       "</table>\n",
       "<p>76 rows × 13 columns</p>\n",
       "</div>"
      ],
      "text/plain": [
       "   Temp. (°C) Sat. press. (kPa) Specific volume  (m3/kg)              \\\n",
       "        Temp.       Sat. press.             Sat. liquid.  Sat.vapor.   \n",
       "            T              Psat                      v_f         v_g   \n",
       "0        0.01            0.6117                 0.001000  206.000000   \n",
       "1        5.00            0.8725                 0.001000  147.030000   \n",
       "2       10.00            1.2281                 0.001000  106.220000   \n",
       "3       15.00            1.7057                 0.001001   77.885000   \n",
       "4       20.00            2.3392                 0.001002   57.762000   \n",
       "..        ...               ...                      ...         ...   \n",
       "71     355.00        17570.0000                 0.001808    0.007872   \n",
       "72     360.00        18666.0000                 0.001895    0.006950   \n",
       "73     365.00        19822.0000                 0.002015    0.006009   \n",
       "74     370.00        21044.0000                 0.002217    0.004953   \n",
       "75     373.95        22064.0000                 0.003106    0.003106   \n",
       "\n",
       "   Internal energy  (kJ/kg)                    Enthalpy  (kJ/kg)          \\\n",
       "               Sat. liquid.   Evap. Sat.vapor.      Sat. liquid.   Evap.   \n",
       "                        u_f    u_fg        u_g               h_f    h_fg   \n",
       "0                     0.000  2374.9    2374.90             0.001  2500.9   \n",
       "1                    21.019  2360.8    2381.80            21.020  2489.1   \n",
       "2                    42.020  2346.6     238.87            42.022  2477.2   \n",
       "3                    62.980  2332.5    2395.50            62.982  2465.4   \n",
       "4                    83.913  2318.4    2402.30            83.915  2453.5   \n",
       "..                      ...     ...        ...               ...     ...   \n",
       "71                 1682.200   706.4    2388.60          1714.000   812.9   \n",
       "72                 1726.200   625.7    2351.90          1761.500   720.1   \n",
       "73                 1777.200   526.4    2303.60          1817.200   605.5   \n",
       "74                 1844.500   385.6    2230.10          1891.200   443.1   \n",
       "75                 2015.700     0.0    2015.70          2084.300     0.0   \n",
       "\n",
       "              Entropy  (kJ/kg·K)                     \n",
       "   Sat.vapor.       Sat. liquid.   Evap. Sat.vapor.  \n",
       "          h_g                s_f    s_fg        s_g  \n",
       "0      2500.9             0.0000  9.1556     9.1556  \n",
       "1      2510.1             0.0763  8.9487     9.0249  \n",
       "2      2519.2             0.1511  8.7488     8.8999  \n",
       "3      2528.3             0.2245  8.5559     8.7803  \n",
       "4      2537.4             0.2965  8.3696     8.6661  \n",
       "..        ...                ...     ...        ...  \n",
       "71     2526.9             3.8442  1.2942     5.1384  \n",
       "72     2481.6             3.9165  1.1373     5.0537  \n",
       "73     2422.7             4.0004  0.9489     4.9493  \n",
       "74     2334.3             4.1119  0.6890     4.8009  \n",
       "75     2084.3             4.4070  0.0000     4.4070  \n",
       "\n",
       "[76 rows x 13 columns]"
      ]
     },
     "execution_count": 204,
     "metadata": {},
     "output_type": "execute_result"
    }
   ],
   "source": [
    "datos"
   ]
  },
  {
   "cell_type": "code",
   "execution_count": 205,
   "metadata": {},
   "outputs": [],
   "source": [
    "T=datos[\"Temp. (°C)\"][\"Temp.\"][\"T\"]\n",
    "P=datos[\"Sat. press. (kPa)\"][\"Sat. press.\"][\"Psat\"]\n",
    "T_inter=np.linspace(7.5,372.5,74)"
   ]
  },
  {
   "cell_type": "code",
   "execution_count": 206,
   "metadata": {},
   "outputs": [],
   "source": [
    "P_pred=p_lagrange(T_inter,T,P)#[p_lagrange(t,T,P) for t in T_inter]"
   ]
  },
  {
   "cell_type": "code",
   "execution_count": 214,
   "metadata": {},
   "outputs": [
    {
     "data": {
      "text/plain": [
       "<matplotlib.collections.PathCollection at 0x7fa322ac8700>"
      ]
     },
     "execution_count": 214,
     "metadata": {},
     "output_type": "execute_result"
    },
    {
     "data": {
      "image/png": "[encoded data removed]",
      "text/plain": [
       "<Figure size 432x288 with 1 Axes>"
      ]
     },
     "metadata": {
      "needs_background": "light"
     },
     "output_type": "display_data"
    }
   ],
   "source": [
    "plt.plot(T_inter[14:-15],P_pred[14:-15])\n",
    "plt.scatter(T,P)"
   ]
  },
  {
   "cell_type": "code",
   "execution_count": 208,
   "metadata": {},
   "outputs": [
    {
     "data": {
      "text/plain": [
       "array([-5.81305469e+15,  2.03393161e+14, -1.01054933e+13,  6.55051723e+11,\n",
       "       -5.26777694e+10,  5.08316375e+09, -5.74795848e+08,  7.48341078e+07,\n",
       "       -1.10653959e+07,  1.83829720e+06, -3.40091325e+05,  6.95946653e+04,\n",
       "       -1.56119330e+04,  3.87876895e+03, -9.85671899e+02,  3.50853932e+02,\n",
       "       -2.98303809e+01,  1.08766814e+02,  8.11907239e+01,  1.15296544e+02,\n",
       "        1.29868583e+02,  1.56681579e+02,  1.83040211e+02,  2.15119047e+02,\n",
       "        2.50558322e+02,  2.91174884e+02,  3.36633372e+02,  3.87872214e+02,\n",
       "        4.45077937e+02,  5.08948932e+02,  5.79886850e+02,  6.58560961e+02,\n",
       "        7.45436059e+02,  8.41218409e+02,  9.46420658e+02,  1.06181484e+03,\n",
       "        1.18791994e+03,  1.32546840e+03,  1.47524667e+03,  1.63788482e+03,\n",
       "        1.81420997e+03,  2.00489445e+03,  2.21077606e+03,  2.43252219e+03,\n",
       "        2.67120965e+03,  2.92750660e+03,  3.20243207e+03,  3.49648783e+03,\n",
       "        3.81116730e+03,  4.14655204e+03,  4.50513965e+03,  4.88488402e+03,\n",
       "        5.29300175e+03,  5.71664606e+03,  6.19027469e+03,  6.62865882e+03,\n",
       "        7.27285422e+03,  7.40406451e+03,  9.36278030e+03,  4.89584645e+03,\n",
       "        2.57490067e+04, -6.16941019e+04,  3.61230155e+05, -1.87517822e+06,\n",
       "        1.13276734e+07, -7.61938748e+07,  5.82578239e+08, -5.12248521e+09,\n",
       "        5.27011499e+10, -6.48861902e+11,  9.86050865e+12, -1.93240903e+14,\n",
       "        5.18299458e+15, -1.68832210e+17])"
      ]
     },
     "execution_count": 208,
     "metadata": {},
     "output_type": "execute_result"
    }
   ],
   "source": [
    "P-P_pred"
   ]
  },
  {
   "cell_type": "code",
   "execution_count": null,
   "metadata": {},
   "outputs": [],
   "source": []
  }
 ],
 "metadata": {
  "kernelspec": {
   "display_name": "Python 3",
   "language": "python",
   "name": "python3"
  },
  "language_info": {
   "codemirror_mode": {
    "name": "ipython",
    "version": 3
   },
   "file_extension": ".py",
   "mimetype": "text/x-python",
   "name": "python",
   "nbconvert_exporter": "python",
   "pygments_lexer": "ipython3",
   "version": "3.8.3"
  }
 },
 "nbformat": 4,
 "nbformat_minor": 4
}
